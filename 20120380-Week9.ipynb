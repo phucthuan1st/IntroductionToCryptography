{
 "cells": [
  {
   "cell_type": "markdown",
   "metadata": {},
   "source": [
    "# Thông tin\n",
    "- Họ tên: Nguyễn Phúc Thuần\n",
    "- MSSV: 20120380"
   ]
  },
  {
   "cell_type": "markdown",
   "metadata": {},
   "source": [
    "## 4.4\n",
    "\n",
    "### a,\n",
    "24 Hoán vị ($4!$) của $A_1, A_2, B_1, B_2$:\n",
    "\n",
    "$$\n",
    "A_1A_2B_1B_2, A_1A_2B_2B_1, A_1B_1A_2B_2, A_1B_1B_2A_2, \\\\\n",
    "\n",
    "A_1B_2A_2B_1, A_1B_2B_1A_2, A_2A_1B_1B_2, A_2A_1B_2B_1, \\\\\n",
    "\n",
    "A_2B_1A_1B_2, A_2B_1B_2A_1, A_2B_2A_1B_1, A_2B_2B_1A_1, \\\\\n",
    "\n",
    "B_1B_2A_1A_2, B_1B_2A_2A_1, B_1A_1A_2B_2, B_1A_1B_2A_2, \\\\\n",
    "\n",
    "B_1A_2A_1B_2, B_1A_2B_2A_1, B_2A_1A_2B_1, B_2A_1B_1A_2, \\\\\n",
    "\n",
    "B_2A_2A_1B_1, B_2A_2B_1A_1, B_2B_1A_1A_2, B_2B_1A_2A_1 \n",
    "$$\n",
    "\n",
    "Nếu $A_1$ giống $A_2, B_1$ giống $B_2$, ta xem như có 4 ký tự $A A B B$ (tức là A và B đều lặp lại 2 lần), \n",
    "\n",
    "do đó số cách để tính hoán vị trong trường hợp này là: $\\dfrac{4!}{2!.2!} = 6$ cách\n",
    "\n",
    "### b,\n",
    "Có 35 cách:\n",
    "\n",
    "Sắp xếp 7 ký tự mà không quan tâm vị trí $\\Rightarrow$ $7!$ cách\n",
    "\n",
    "Vì có 4 ký tự A và 3 ký tự B giống nhau nên sẽ bị lặp \n",
    "\n",
    "$\\Rightarrow$ Tổng số cách là: $\\dfrac{7!}{3!.4!} = 35$ cách\n",
    "\n",
    "### c,\n",
    "Có 1260 cách \n",
    "\n",
    "Sắp xếp 9 ký tự mà không quan tâm vị trí $\\Rightarrow 9!$ cách\n",
    "\n",
    "Vì có 4 ký tự A và 3 ký tự B và 2 ký tự C giống nhau nên sẽ bị lặp \n",
    "\n",
    "$\\Rightarrow$ Tổng số cách là: $\\dfrac{9!}{(3!.4!.2!)} = 1260$ cách\n",
    "\n",
    "### d,\n",
    "Có 26 cách:\n",
    "\n",
    "TH1: 2 ký tự A, 3 ký tự B $\\Rightarrow$ có 10 cách\n",
    "\n",
    "TH2: 3 ký tự A, 2 ký tự B $\\Rightarrow$ có 10 cách\n",
    "\n",
    "TH3: 4 ký tự A, 1 ký tự B $\\Rightarrow$ có 5 cách\n",
    "\n",
    "TH4: 5 ký tự A $\\Rightarrow$ có 1 cách\n",
    "\n",
    "Vậy có tổng cộng: $10+10+5+1 = 26$ cách"
   ]
  },
  {
   "cell_type": "markdown",
   "metadata": {},
   "source": [
    "## 4.7\n",
    "### a,\n",
    "Theo đề bài ta có: \n",
    "\n",
    "$\\frac{n!}{j!.(n-j)!} = \\frac{(n-1)!}{j!.(n-1-j)!} + \\frac{(n-1)!}{(j-1)!.(n-j)!}$\n",
    "\n",
    "$\\Rightarrow \\frac{n.(n-1)!}{j.(j-1)!.(n-j).(n-j-1)!} = \\frac{(n-1)!}{j.(j-1)!.(n-j-1)!} + \\frac{(n-1)!}{(j-1)!.(n-j).(n-j-1)!}$\n",
    "\n",
    "$\\Rightarrow \\frac{n}{j.(n-j)} = \\frac{1}{j} + \\frac{1}{n-j}$\n",
    "\n",
    "$\\Rightarrow VP = \\frac{(n-j + j)}{j.(n-j)} = \\frac{n}{j.(n-j)} = VT \\Rightarrow \\text{điều phải chứng minh}$\n",
    "\n",
    "### b,\n",
    "$ VT \\ = \\ \\sum_{j=0}^n C_n^j x^j y^{n-j}$\n",
    "\n",
    "$VP \\ = \\ (x+y)\\sum_{j=0}^n C_{n-1}^j x^j y^{n-j-1}$\n",
    "\n",
    "$ \\text{Hệ số của } x^j y^{n-j} \\text{ ở VT là: } C_n^j \\\\ \\\\\n",
    "\\text{Hệ số của } x^j y^{n-j} \\text{ ở VP là: } C_{n-1}^j + C_{n-1}^{j-1}  \\ \\text{(tách x+y ra)} \\\\ \n",
    "\\text{Theo giả thiết, ta thấy VT = VP}. \\Rightarrow \\text{điều phải chứng minh}\n",
    "$"
   ]
  },
  {
   "cell_type": "markdown",
   "metadata": {},
   "source": [
    "## 4.8\n",
    "### a,\n",
    "$ 1 ≤ j ≤ p − 1 \\ \\Rightarrow \\ C_p^j =  \\frac{p!}{j!.(p-j)!} = p.\\frac{(p-1)!}{j!.(p-j)!} \\ ⋮ \\  p \\\\ \n",
    "\\ \\Rightarrow C_p^j \\  ⋮ \\  p \\ \\ (đpcm)\n",
    "$\n",
    "\n",
    "### b,\n",
    "Ta có:\n",
    "$ (a+b)^p =\\sum_{j=0}^p C_p^j a^j b^{p-j}$\n",
    "\n",
    "Từ kết quả của câu a, ta có: \n",
    "$ \\text{Với 1 ≤ j ≤ p − 1  thì }   C_p^j \\  ⋮ \\  p $\n",
    "\n",
    "$ \\Rightarrow (a+b)^p ≡ C_p^0 a^0 b^p + C_p^p a^p b^0 ≡ a^p + b^p \\ \\ (mod \\ p) \\ \\ \\Rightarrow \\ \\ \\ (đpcm)$\n",
    "\n",
    "### c,\n",
    "Ta chứng minh bằng quy nạp:\n",
    "$ \\text{Với a=0} \\Rightarrow 0^p \\ ≡ \\ 0 \\ (mod \\ p) \\ \\ \\text{(luôn đúng)} $\n",
    "\n",
    "$ \\text{Giả sử đúng với a = k, tức là ta có: } k^p \\ ≡ \\ k \\ (mod \\ p) $\n",
    "\n",
    "$ \\text{Ta cần chứng minh: (*) đúng với a = k+1, có nghĩa là cần chứng minh } (k+1)^p \\ ≡ \\ k+1 \\ (mod \\ p)$\n",
    "\n",
    "$\\text{Thật vậy: } (k+1)^p \\ ≡ \\ k^p \\ + \\ 1^p  ≡ \\ k+1 \\ (mod \\ p) \\ \\ (đpcm)$\n",
    "\n",
    "Vậy $ a^p \\ ≡ \\ a \\ (mod \\ p) \\ \\ \\ \\text{Với mọi  a ≥ 0}$\n",
    "\n",
    "### d,\n",
    "Xét dãy số: \n",
    "$a, 2a, 3a, 4a, ... , (p-1)a$\n",
    "\n",
    "TH1:\n",
    "\n",
    "Nếu tồn tại 2 số có cùng số dư khi chia cho p là m.a và n.a (m < n, m và n là các hằng số)\n",
    "\n",
    "thì $m.a - n.a = (m - n).a$ ⋮ $p$\n",
    "\n",
    "dễ nhận thấy $0 < m - n < p$ nên $a$ ⋮ $p$ suy ra $(a,p) = p ≠ 1$ (vô lý)\n",
    "\n",
    "TH2:\n",
    "\n",
    "Khi lấy các số trong dãy trên chia cho p không có số nào có cùng số dư khi chia cho p \n",
    "\n",
    "Suy ra các số dư lần lượt là $1,2,3,4,... p-1$ vì a không chia hết cho p.\n",
    "\n",
    "Hay $a.2a.3a....(p-1)a ≡ 1.2.3...(p-1)$ ($mod$ $p$)\n",
    "\n",
    "hay $a^(p-1).(p-1)! ≡  (p-1)!$ (mod p)\n",
    "\n",
    "hay $a^(p-1) ≡ 1$ (mod p)   (ĐPCM)"
   ]
  },
  {
   "cell_type": "markdown",
   "metadata": {},
   "source": [
    "## 4.10\n",
    "### a,"
   ]
  },
  {
   "cell_type": "code",
   "execution_count": 1,
   "metadata": {},
   "outputs": [
    {
     "name": "stdout",
     "output_type": "stream",
     "text": [
      "GALYUEGAPKDTMZRLDGXLLQXFMZGPDYAQLNKJLFGLDG\n"
     ]
    }
   ],
   "source": [
    "def encrypt(plaintext, key):\n",
    "    length_of_key = len(key)\n",
    "    key_in_numeric = [ord(i) for i in key]\n",
    "    plaintext_in_numeric = [ord(i) for i in plaintext]\n",
    "    ciphertext = ''\n",
    "    for i in range(len(plaintext_in_numeric)):\n",
    "        value = (plaintext_in_numeric[i] + key_in_numeric[i % length_of_key]) % 26\n",
    "        ciphertext += chr(value + 65)\n",
    "    return ciphertext\n",
    "\n",
    "print(encrypt(\"To be, or not to be, that is the question.\", \"hamlet\"))"
   ]
  },
  {
   "cell_type": "markdown",
   "metadata": {},
   "source": [
    "### b,"
   ]
  },
  {
   "cell_type": "code",
   "execution_count": 2,
   "metadata": {},
   "outputs": [
    {
     "name": "stdout",
     "output_type": "stream",
     "text": [
      "EHHSZQURSXWKMYJNEZXHUUNXSJDHETKJTAYXNTG\n"
     ]
    }
   ],
   "source": [
    "def encrypt(plaintext, key):\n",
    "    key_length = len(key)\n",
    "    key_as_int = [ord(i) for i in key]\n",
    "    plaintext_int = [ord(i) for i in plaintext]\n",
    "    ciphertext = ''\n",
    "    for i in range(len(plaintext_int)):\n",
    "        value = (plaintext_int[i] + key_as_int[i % key_length]) % 26\n",
    "        ciphertext += chr(value + 65)\n",
    "    return ciphertext\n",
    "\n",
    "print(encrypt(\"The treasure is buried under the big W.\", \"fortune\"))"
   ]
  },
  {
   "cell_type": "markdown",
   "metadata": {},
   "source": [
    "## 4.11\n",
    "### a,"
   ]
  },
  {
   "cell_type": "code",
   "execution_count": 3,
   "metadata": {},
   "outputs": [
    {
     "name": "stdout",
     "output_type": "stream",
     "text": [
      "PETERPIPERPICKEDAPECKOFPICKLEDPEPPERS\n"
     ]
    }
   ],
   "source": [
    "def decrypt(ciphertext, key):\n",
    "    key_length = len(key)\n",
    "    key_as_int = [ord(i) for i in key]\n",
    "    ciphertext_int = [ord(i) for i in ciphertext]\n",
    "    plaintext = ''\n",
    "    for i in range(len(ciphertext_int)):\n",
    "        value = (ciphertext_int[i] - key_as_int[i % key_length]) % 26\n",
    "        plaintext += chr(value + 65)\n",
    "    return plaintext\n",
    "\n",
    "print(decrypt(\"rsghzbmcxtdvfsqhnigqxrnbmpdnsqsmbtrku\", \"condiment\"))"
   ]
  },
  {
   "cell_type": "markdown",
   "metadata": {},
   "source": [
    "Plaintext:  PETER PIPER PICKED A PECK OF PICKLED PEPPERS"
   ]
  },
  {
   "cell_type": "markdown",
   "metadata": {},
   "source": [
    "### b,"
   ]
  },
  {
   "cell_type": "code",
   "execution_count": 4,
   "metadata": {},
   "outputs": [
    {
     "name": "stdout",
     "output_type": "stream",
     "text": [
      "THEDIFFERENTBRANCHESOFARITHMETICREPLIEDTHEMOCKTURTLEAREAMBITIONDISTRACTIONUGLIFICATIONANDDERISION\n"
     ]
    }
   ],
   "source": [
    "def decrypt(ciphertext, key):\n",
    "    key_length = len(key)\n",
    "    key_as_int = [ord(i) for i in key]\n",
    "    ciphertext_int = [ord(i) for i in ciphertext]\n",
    "    plaintext = ''\n",
    "    for i in range(len(ciphertext_int)):\n",
    "        value = (ciphertext_int[i] - key_as_int[i % key_length]) % 26\n",
    "        plaintext += chr(value + 65)\n",
    "    return plaintext\n",
    "\n",
    "print(decrypt(\"khfeqymscietcsigjvpwffbsqmoapxzcsfxepsoxyenpkdaicxcebsmttptxzooeqlaflgkipoczswqmtaujwghbohvrjtqhu\", \"rabbithole\"))"
   ]
  },
  {
   "cell_type": "markdown",
   "metadata": {},
   "source": [
    "Plaintext:  THE DIFFERENT BRANCHES OF ARITHMETIC REPLIED THE MOCK  TURTLE ARE AMBITION DISTRACTION UGLIFICATION AND DERISION"
   ]
  },
  {
   "cell_type": "markdown",
   "metadata": {},
   "source": [
    "## 4.18\n",
    "### a,\n",
    "Trigram     Appears at places       Difference\n",
    "psg         11 and 151 and 186      175 = 5^2 . 7\n",
    "sgl         12 and 85               73 = 73\n",
    "gls         13 and 174              161 = 161\n",
    "lsa         14 and 175              161 = 161\n",
    "awl         27 and 118              91 = 7.13\n",
    "wlr         28 and 119 and 182      154 = 2.7.11\n",
    "gki         62 and 153              91 = 7.13\n",
    "tps         150 and 192             42 = 2.3.7         "
   ]
  },
  {
   "cell_type": "markdown",
   "metadata": {},
   "source": [
    "## 4.31\n",
    "### a,\n",
    "\n",
    "Theo đề bài ta có: \n",
    "$$ \\sum_{n=0}^\\infty x^n = \\frac{1}{1-x}\\ \\ \\  \\text{   (với |x| < 1)} \\ \\ \\ \\ (*)\\\\\n",
    "\\text{Ta đạo hàm 2 vế của (*): } \\\\\n",
    "\\Rightarrow \\ \\ \\sum_{n=1}^\\infty n.x^{n-1} = \\frac{1}{(1-x)^2} \\ \\ (đpcm)\n",
    "$$\n",
    "\n",
    "### b,\n",
    "Từ kết quả của câu a, tiếp tục đạo hàm thêm 1 lần nữa, ta có:\n",
    "$$ \\sum_{n=2}^\\infty n.(n-1)x^{n-2} = \\frac{2}{(1-x)^3} \\ \\ (đpcm) $$\n",
    "\n",
    "### d,\n",
    "Từ kết quả của câu a, ta nhân 2 vế thêm x\n",
    "$$ \\Rightarrow  \\ \\sum_{n=1}^\\infty n.x^{n} = \\frac{x}{(1-x)^2} $$ \n",
    "Tiếp tục đạo hàm 2 vế, ta có:\n",
    "$$ \\Rightarrow  \\ \\sum_{n=1}^\\infty n^2.x^{n-1} = \\frac{1+x}{(1-x)^3} $$ \n",
    "Ta nhân thêm x vào 2 vế, suy ra\n",
    "$$ \\Rightarrow  \\ \\sum_{n=1}^\\infty n^2.x^{n} = \\frac{x+x^2}{(1-x)^3} $$\n",
    "$$ \\ \\ Vì \\ \\ \\sum_{n=1}^\\infty n^2.x^{n} = \\sum_{n=0}^\\infty n^2.x^{n} \\\\\n",
    "\\text{nên ta có: } \\sum_{n=0}^\\infty n^2.x^{n} = \\frac{x+x^2}{(1-x)^3}  \\ \\ (đpcm)$$\n",
    "\n",
    "\n",
    "### e,\n",
    "Từ kết quả của câu d, ta đạo hàm 2 vế\n",
    "$$ \\Rightarrow  \\ \\sum_{n=1}^\\infty n^3.x^{n-1} = \\frac{x^2+4x+1}{(1-x)^4}$$ \n",
    "Nhân 2 vế với x, ta được\n",
    "$$ \\Rightarrow  \\ \\sum_{n=1}^\\infty n^3.x^{n} = \\frac{x^3+4x^2+x}{(1-x)^4} $$ \n",
    "$$ \\ \\ Vì \\ \\ \\sum_{n=1}^\\infty n^3.x^{n} = \\sum_{n=0}^\\infty n^3.x^{n} $$\n",
    "$$ \\text{nên ta có: } \\sum_{n=0}^\\infty n^3.x^{n} = \\frac{x^3+4x^2+x}{(1-x)^4}  \\ \\ (đpcm)$$"
   ]
  }
 ],
 "metadata": {
  "kernelspec": {
   "display_name": "Python 3.9.0 64-bit",
   "language": "python",
   "name": "python3"
  },
  "language_info": {
   "codemirror_mode": {
    "name": "ipython",
    "version": 3
   },
   "file_extension": ".py",
   "mimetype": "text/x-python",
   "name": "python",
   "nbconvert_exporter": "python",
   "pygments_lexer": "ipython3",
   "version": "3.9.0"
  },
  "orig_nbformat": 4,
  "vscode": {
   "interpreter": {
    "hash": "ff1200cc413885a26299d5081e03f20b97b392fc1baa637c4818e9e43d99bbec"
   }
  }
 },
 "nbformat": 4,
 "nbformat_minor": 2
}
