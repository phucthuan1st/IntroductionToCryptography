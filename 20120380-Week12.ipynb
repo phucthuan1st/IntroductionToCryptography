{
 "cells": [
  {
   "attachments": {},
   "cell_type": "markdown",
   "metadata": {},
   "source": [
    "# Thông tin\n",
    "- Họ tên: Nguyễn Phúc Thuần\n",
    "- MSSV: 20120380"
   ]
  },
  {
   "attachments": {},
   "cell_type": "markdown",
   "metadata": {},
   "source": [
    "# Bài làm"
   ]
  },
  {
   "attachments": {},
   "cell_type": "markdown",
   "metadata": {},
   "source": [
    "## 7.1\n",
    "### (a)\n"
   ]
  },
  {
   "cell_type": "code",
   "execution_count": 147,
   "metadata": {},
   "outputs": [
    {
     "name": "stdout",
     "output_type": "stream",
     "text": [
      "s = 561517, phi = 659880, v = 159853, N = 661643,\n"
     ]
    }
   ],
   "source": [
    "p = 541\n",
    "q = 1223\n",
    "v = 159853\n",
    "\n",
    "n = p * q\n",
    "phi = (p-1)*(q-1)\n",
    "\n",
    "s = pow(v, -1, phi)\n",
    "print(f's = {s}, phi = {phi}, v = {v}, N = {n},')"
   ]
  },
  {
   "attachments": {},
   "cell_type": "markdown",
   "metadata": {},
   "source": [
    "Công khai: N = 661643, v = 159853\n",
    "\n",
    "Private signing key: s = 561517\n",
    "\n",
    "### (b)\n",
    "Chữ kí số: $S = D^s \\left(mod N\\right)$"
   ]
  },
  {
   "cell_type": "code",
   "execution_count": 148,
   "metadata": {},
   "outputs": [
    {
     "name": "stdout",
     "output_type": "stream",
     "text": [
      "Signature S = 206484\n"
     ]
    }
   ],
   "source": [
    "D = 630579\n",
    "N = n\n",
    "S = pow(D, s, N)\n",
    "print(f'Signature S = {S}')"
   ]
  },
  {
   "attachments": {},
   "cell_type": "markdown",
   "metadata": {},
   "source": [
    "## 7.2\n"
   ]
  },
  {
   "cell_type": "code",
   "execution_count": 149,
   "metadata": {},
   "outputs": [
    {
     "name": "stdout",
     "output_type": "stream",
     "text": [
      "False\n",
      "True\n",
      "True\n"
     ]
    }
   ],
   "source": [
    "C = lambda S,v: pow(S, v, N)\n",
    "validate = lambda D, S, v: D == C(S,v)\n",
    "\n",
    "(D_pure, S_pure) = (119812, 876453)\n",
    "(D_quote, S_quote) = (161153, 870099)\n",
    "(D_2quote, S_2quote) = (586036, 602754)\n",
    "v = 87953\n",
    "N = 1562501\n",
    "\n",
    "print(validate(D_pure, S_pure, v))\n",
    "print(validate(D_quote, S_quote, v))\n",
    "print(validate(D_2quote, S_2quote, v))\n"
   ]
  },
  {
   "attachments": {},
   "cell_type": "markdown",
   "metadata": {},
   "source": [
    "## 7.6\n",
    "\n",
    "Ta có: \n",
    "\n",
    "$v^{S_1}S_1^{S_2} \\equiv v^{S_1}(g_iv_j)^{-S_1j^{-1}} \\equiv v^{S_1}g^{-ij^{-1}S_1}v^{-S_1} \\equiv g^{-ij^{-1}S_1} \\equiv g^D \\left(mod p\\right)$ (đpcm)\n"
   ]
  },
  {
   "attachments": {},
   "cell_type": "markdown",
   "metadata": {},
   "source": [
    "## 7.8\n"
   ]
  },
  {
   "cell_type": "code",
   "execution_count": 150,
   "metadata": {},
   "outputs": [
    {
     "name": "stdout",
     "output_type": "stream",
     "text": [
      "Public verification key v = 4940\n",
      "Signature (S1, S2) = (444, 56)\n"
     ]
    }
   ],
   "source": [
    "(p, q, g) = (22531, 751, 4488)\n",
    "s = 674\n",
    "D = 244\n",
    "e = 574\n",
    "\n",
    "v = pow(g, s, p)\n",
    "print(f'Public verification key v = {v}')\n",
    "\n",
    "S1 = pow(g, e, p) % q\n",
    "S2 = ((D + s*S1) * pow(e, -1, q)) % q\n",
    "\n",
    "print(f'Signature (S1, S2) = {(S1, S2)}')"
   ]
  },
  {
   "attachments": {},
   "cell_type": "markdown",
   "metadata": {},
   "source": [
    "## 7.9"
   ]
  },
  {
   "cell_type": "code",
   "execution_count": 151,
   "metadata": {},
   "outputs": [
    {
     "name": "stdout",
     "output_type": "stream",
     "text": [
      "V1 = 293, V2 = 252\n",
      "True\n",
      "V1 = 709, V2 = 428\n",
      "False\n"
     ]
    }
   ],
   "source": [
    "(p, q, g) = (22531, 751, 4488)\n",
    "v = 22476\n",
    "\n",
    "def validate_DSA(sign, D):\n",
    "    (S1, S2) = sign\n",
    "    V1 = (D*pow(S2, -1, q)) % q\n",
    "    V2 = S1*pow(S2, -1, q) % q\n",
    "    \n",
    "    print(f'V1 = {V1}, V2 = {V2}')\n",
    "    \n",
    "    return S1 == (pow(g, V1) * pow(v, V2) % p) % q\n",
    "\n",
    "# (a)\n",
    "(S1, S2) = (183, 260)\n",
    "D = 329\n",
    "print(validate_DSA((S1, S2), D))\n",
    "\n",
    "# (b)\n",
    "(S1, S2) = (211, 97)\n",
    "D = 432\n",
    "print(validate_DSA((S1, S2), D))"
   ]
  },
  {
   "attachments": {},
   "cell_type": "markdown",
   "metadata": {},
   "source": [
    "## 7.12\n"
   ]
  },
  {
   "cell_type": "code",
   "execution_count": 152,
   "metadata": {},
   "outputs": [],
   "source": [
    "def inverse(x, p):\n",
    "    if x % p == 0:\n",
    "        return None\n",
    "    \n",
    "    return pow(x, p-2, p)\n",
    "    \n",
    "def ellyptic_addition(P, Q, E, p):\n",
    "    __O__ = (0,0)\n",
    "    if P == __O__:\n",
    "        return Q\n",
    "    \n",
    "    if Q == __O__:\n",
    "        return P\n",
    "    \n",
    "    x1, y1 = P\n",
    "    x2, y2 = Q\n",
    "    \n",
    "    if x1 == x2 and y1 == -y2:\n",
    "        return __O__\n",
    "    \n",
    "    if P != Q:\n",
    "        denom = inverse(x2 - x1, p)\n",
    "        if denom == None:\n",
    "            return __O__\n",
    "        \n",
    "        __lambda__ = ((y2 - y1)*denom) % p\n",
    "    else:\n",
    "        A,_ = E\n",
    "        denom = inverse(2*y1, p)\n",
    "        if denom == None:\n",
    "            return __O__\n",
    "        \n",
    "        __lambda__ = ((3*pow(x1, 2) + A) * denom) % p\n",
    "        \n",
    "    x3 = pow(__lambda__, 2) - x1 - x2\n",
    "    y3 = __lambda__*(x1 - x3) - y1\n",
    "    \n",
    "    return (x3 % p, y3 % p)\n",
    "\n",
    "def square_root(x, p):\n",
    "    return [i for i in range(0,p) if pow(i, 2, p) == x]\n",
    "\n",
    "def elliptic_points(a, b, p):\n",
    "    E_points = [(0,0)]\n",
    "    \n",
    "    for x in range(0,p):\n",
    "        yy = pow(x, 3) + a*x + b\n",
    "        sqr = square_root(yy % p, p)\n",
    "    \n",
    "    if len(sqr) > 0:\n",
    "        for y in sqr:\n",
    "            E_points.append((x, y))\n",
    "            \n",
    "    return E_points\n",
    "\n",
    "def double_and_add(P, n, a, b, p):\n",
    "    \n",
    "    Q = P\n",
    "    R = (0,0)\n",
    "    \n",
    "    while n > 0:\n",
    "        if n & 1:\n",
    "            R = ellyptic_addition(R, Q, (a, b), p)\n",
    "        Q = ellyptic_addition(Q, Q, (a, b), p)\n",
    "        n = n >> 1\n",
    "    \n",
    "    return R"
   ]
  },
  {
   "cell_type": "code",
   "execution_count": 153,
   "metadata": {},
   "outputs": [],
   "source": [
    "def verify_order_in_ELC(G, q, E, p):\n",
    "    (A,B) = E\n",
    "    qG = double_and_add(G, q, A, B, p)\n",
    "    return qG == (0,0)\n",
    "    "
   ]
  },
  {
   "cell_type": "code",
   "execution_count": 155,
   "metadata": {},
   "outputs": [
    {
     "name": "stdout",
     "output_type": "stream",
     "text": [
      "(a)\n",
      "Public verification key V = (8689, 1726)\n",
      "Signature (s1, s2) = (491, 290) mod 1321\n",
      "(b)\n",
      "True\n",
      "(c)\n",
      "Private signing key of Umberto is: s = 1294\n",
      "Signature (s1, s2) = (1281, 236)\n"
     ]
    }
   ],
   "source": [
    "E = (231, 473)\n",
    "p = 17389\n",
    "q = 1321\n",
    "G = (11259, 11278) \n",
    "\n",
    "if not verify_order_in_ELC(G,q, E, p):\n",
    "    print(f'{G} is not a point of order {q} in E')\n",
    "else:\n",
    "    # V = sG\n",
    "    s = 542\n",
    "    A,B = E\n",
    "    \n",
    "    print('(a)')\n",
    "    V = double_and_add(G, s, A, B, p)\n",
    "    print(f'Public verification key V = {V}')\n",
    "    \n",
    "    d = 644\n",
    "    e = 847\n",
    "    \n",
    "    eG = double_and_add(G, e, A, B, p)\n",
    "    x,_ = eG\n",
    "    s1 = x % q\n",
    "    s2 = (d + s*s1)*pow(e, -1, q) % q\n",
    "    print(f'Signature (s1, s2) = {(s1, s2)} mod {q}')\n",
    "    \n",
    "    print('(b)')\n",
    "    V = (11017, 14637)\n",
    "    (s1, s2) = (907, 296)\n",
    "    d = 993\n",
    "    v1 = d*pow(s2, -1, q) % q\n",
    "    v2 = s1*pow(s2, -1, q) % q\n",
    "    v1G = double_and_add(G, v1, A, B, p)\n",
    "    v2V = double_and_add(V, v2, A, B, p)\n",
    "    (x, _) = ellyptic_addition(v1G, v2V, (A,B), p)\n",
    "    print(s1 == x % q)\n",
    "    \n",
    "    print('(c)')\n",
    "    V = (14594, 308)\n",
    "    #using brute force\n",
    "    s = 0\n",
    "    V_try = (0,0)\n",
    "    while V_try != V:\n",
    "        s = s + 1\n",
    "        V_try = ellyptic_addition(V_try, G, (A, B), p)\n",
    "        \n",
    "    print(f'Private signing key of Umberto is: s = {s}')\n",
    "    d = 516\n",
    "    e = 365\n",
    "    x,_ = double_and_add(G, e, A, B, p)\n",
    "    s1 = x % q\n",
    "    s2 = (d + s*s1)*pow(e, -1, q) % q\n",
    "    print(f'Signature (s1, s2) = {(s1, s2)}')"
   ]
  }
 ],
 "metadata": {
  "kernelspec": {
   "display_name": "Python 3",
   "language": "python",
   "name": "python3"
  },
  "language_info": {
   "codemirror_mode": {
    "name": "ipython",
    "version": 3
   },
   "file_extension": ".py",
   "mimetype": "text/x-python",
   "name": "python",
   "nbconvert_exporter": "python",
   "pygments_lexer": "ipython3",
   "version": "3.9.0"
  },
  "orig_nbformat": 4,
  "vscode": {
   "interpreter": {
    "hash": "ff1200cc413885a26299d5081e03f20b97b392fc1baa637c4818e9e43d99bbec"
   }
  }
 },
 "nbformat": 4,
 "nbformat_minor": 2
}
