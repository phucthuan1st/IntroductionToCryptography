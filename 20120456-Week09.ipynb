{
 "cells": [
  {
   "cell_type": "markdown",
   "metadata": {},
   "source": [
    "# 20120456 - Lê Phước Đôn"
   ]
  },
  {
   "attachments": {},
   "cell_type": "markdown",
   "metadata": {},
   "source": [
    "## 6.1\n",
    "### a,\n",
    "Theo đề bài ta có:\n",
    "q = 918293817; f = 19928 ; g = 18643\n",
    "f ≈ 0.66.sqrt(q);  g ≈ 0.615.sqrt(q). Do đó ta tính được:\n",
    "f^(-1) ≡ 40136186  (mod q)  và h ≡ f^(-1).g ≡ 767748560  (mod q).\n",
    "\\rightarrow Khoá công khai của Alice là: (q,h) = (918293817, 767748560).\n",
    "\n",
    "### b,\n",
    "Ta có:  e = 619168806 ;  0 < m < sqrt(q/4)   và   0 < r < sqrt(q/2)\n",
    "<\\rightarrow 0 < m < 15151   và   0 < r < 21427\n",
    "Ta đi tính:\n",
    "a ≡ f.e ≡ 600240756 (mod q)\n",
    "Ta thấy a = 600240756  < 918293817 = q.\n",
    "Tính: f(-1) ≡ 9764  (mod g)\n",
    "=\\rightarrow plaintext: m = f^(-1).a ≡ 9764 · 600240756 ≡ 11818 (mod g)\n",
    "\n",
    "### c,\n",
    "plaintext: m = 10220;  r = 19564\n",
    "\\rightarrow ciphertext: e ≡ rh + m ≡ 619167208 (mod q)\n",
    "\\rightarrow Bob gửi cho Alice  ciphertext e = 619167208"
   ]
  },
  {
   "attachments": {},
   "cell_type": "markdown",
   "metadata": {},
   "source": [
    "## 6.3\n",
    "M = (5186, 2779, 5955, 2307, 6599, 6771, 6296, 7306, 4115, 7039)\n",
    "The encrypted message S = 26560; multiplier A = 4392; modulus B = 8387\n",
    "\n",
    "### Superincreasing private sequence r:\n",
    "Dãy siêu tăng r của Alice là: r = (5, 14, 30, 75, 160, 351, 750, 1579, 3253, 6500)\n",
    "\n",
    "### Decrypt the message:\n",
    "Ta có: A(-1) ≡ 2683  (mod B)\n",
    "\\rightarrow S' ≡ A^(−1).S ≡ 4528  (mod B)\n",
    "Mà 4528 = 14 + 160 + 351 + 750 + 3253\n",
    "\\rightarrow The plaintext x:  "
   ]
  },
  {
   "cell_type": "markdown",
   "metadata": {},
   "source": [
    "## 6.6\n",
    "### a, v1 = (1, 3, 2), v2 = (4, 1, −2), v3 = (−2, 1, 3)"
   ]
  },
  {
   "cell_type": "code",
   "execution_count": 32,
   "metadata": {},
   "outputs": [
    {
     "name": "stdout",
     "output_type": "stream",
     "text": [
      "[[ 0.21821789  0.88182973 -0.41803981]\n",
      " [ 0.87287156  0.01520396  0.48771311]\n",
      " [-0.43643578  0.47132279  0.76640632]]\n"
     ]
    }
   ],
   "source": [
    "import numpy as np\n",
    "\n",
    "def gram_schmidt(A):\n",
    "    \"\"\"Orthogonalize a set of vectors stored as the columns of matrix A.\"\"\"\n",
    "    # Get the number of vectors.\n",
    "    n = A.shape[1]\n",
    "    for j in range(n):\n",
    "        # To orthogonalize the vector in column j with respect to the\n",
    "        # previous vectors, subtract from it its projection onto\n",
    "        # each of the previous vectors.\n",
    "        for k in range(j):\n",
    "            A[:, j] -= np.dot(A[:, k], A[:, j]) * A[:, k]\n",
    "        A[:, j] = A[:, j] / np.linalg.norm(A[:, j])\n",
    "    return A\n",
    "\n",
    "if __name__ == '__main__':\n",
    "    A = np.array([[1.0, 3.0, 2.0], [4.0, 1.0, -2.0], [-2.0, 1.0, 3.0]])\n",
    "    print(gram_schmidt(A))"
   ]
  },
  {
   "cell_type": "markdown",
   "metadata": {},
   "source": [
    "### b, v1 = (4, 1, 3, −1), v2 = (2, 1, −3, 4), v3 = (1, 0, −2, 7)"
   ]
  },
  {
   "cell_type": "code",
   "execution_count": 33,
   "metadata": {},
   "outputs": [
    {
     "name": "stdout",
     "output_type": "stream",
     "text": [
      "[[ 0.87287156 -0.26726124  0.40824829 -0.57735027]\n",
      " [ 0.43643578  0.80178373 -0.40824829 -0.57735027]\n",
      " [ 0.21821789 -0.53452248 -0.81649658 -0.57735027]]\n"
     ]
    }
   ],
   "source": [
    "import numpy as np\n",
    "\n",
    "\n",
    "def gram_schmidt(A):\n",
    "    \"\"\"Orthogonalize a set of vectors stored as the columns of matrix A.\"\"\"\n",
    "    # Get the number of vectors.\n",
    "    n = A.shape[1]\n",
    "    for j in range(n):\n",
    "        # To orthogonalize the vector in column j with respect to the\n",
    "        # previous vectors, subtract from it its projection onto\n",
    "        # each of the previous vectors.\n",
    "        for k in range(j):\n",
    "            A[:, j] -= np.dot(A[:, k], A[:, j]) * A[:, k]\n",
    "        A[:, j] = A[:, j] / np.linalg.norm(A[:, j])\n",
    "    return A\n",
    "\n",
    "if __name__ == '__main__':\n",
    "    A = np.array([[4.0, 1.0, 3.0, -1.0], [2.0, 1.0, -3.0, 4.0], [1.0, 0.0, -2.0, 7.0]])\n",
    "    print(gram_schmidt(A))"
   ]
  },
  {
   "attachments": {},
   "cell_type": "markdown",
   "metadata": {},
   "source": [
    "## 6.10\n",
    "### b, det(A) ≠ 0. Chứng minh $A^{-1} = \\dfrac{1}{det(A)}B$\n",
    "Ta có $det(A) = A.B$ (theo tính chất của phần tử kề của ma trận vuông)\n",
    "\n",
    "$\\Rightarrow   A^{-1}det(A) = A^{-1}AB \\\\\n",
    "\\Leftrightarrow  A^{-1}det(A) = I_nB \\\\\n",
    "\\Leftrightarrow  A^{-1} = \\dfrac{B}{det(A)}$ (đpcm)\n",
    "\n",
    "### a, Chứng minh $AB = BA = det(A)I_n$\n",
    "Ta mượn kết quả đã chứng minh ở câu b:\n",
    "\n",
    "$\n",
    "A^{-1} = B/det(A)\n",
    "\\Leftrightarrow  A.A^{-1} = (A.B)/det(A)\n",
    "\\Leftrightarrow I = (A.B)/det(A)$ (1)\n",
    "\n",
    "và \n",
    "\n",
    "$A^{-1} . A = \\dfrac{BA}{det(A)}\n",
    "\\Leftrightarrow  I = \\dfrac{BA}{det(A)}$ (2)\n",
    "\n",
    "Từ (1) và (2) suy ra: $I_n = \\dfrac{AB}{det(A)} = \\dfrac{BA}{det(A)}$\n",
    "\n",
    "Hay $AB = BA = det(A)I_n$ (đpcm)\n",
    "\n",
    "\n"
   ]
  },
  {
   "cell_type": "markdown",
   "metadata": {},
   "source": [
    "## 6.22 c = a * b modulo q"
   ]
  },
  {
   "cell_type": "code",
   "execution_count": 53,
   "metadata": {},
   "outputs": [],
   "source": [
    "# A[] represents coefficients of first polynomial\n",
    "# B[] represents coefficients of second polynomial\n",
    "# m and n are sizes of A[] and B[] respectively\n",
    "def Convolution_polynomial(a,b,N,q):\n",
    "    def multiply(A, B, m, n):\n",
    "\n",
    "        prod = [0] * (m + n - 1)\n",
    "\n",
    "        # Multiply two polynomials term by term\n",
    "\n",
    "        # Take ever term of first polynomial\n",
    "        for i in range(m):\n",
    "\n",
    "            # Multiply the current term of first\n",
    "            # polynomial with every term of\n",
    "            # second polynomial.\n",
    "            for j in range(n):\n",
    "                prod[i + j] += A[i] * B[j]\n",
    "\n",
    "        return prod\n",
    "\n",
    "    # A utility function to print a polynomial\n",
    "\n",
    "\n",
    "    def printPoly(poly, n):\n",
    "\n",
    "        for i in range(n):\n",
    "            print(poly[i], end=\"\")\n",
    "            if (i != 0):\n",
    "                print(\"x^\", i, end=\"\")\n",
    "            if (i != n - 1):\n",
    "                print(\" + \", end=\"\")\n",
    "\n",
    "    # Driver Code\n",
    "\n",
    "\n",
    "    # The following array represents\n",
    "    # polynomial 5 + 10x^2 + 6x^3\n",
    "    #A = [0, 0, 1, 0, 0,1,0,1,1,1]\n",
    "\n",
    "    # The following array represents\n",
    "    # polynomial 1 + 2x + 4x^2\n",
    "    #B = [1,1,0,1,1,1,0,1,1,1]\n",
    "    m = len(a)\n",
    "    n = len(b)\n",
    "\n",
    "    print(\"a(x) = \", end ='')\n",
    "    printPoly(a, m)\n",
    "    print(\"\\nb(x) = \", end ='')\n",
    "    printPoly(b, n)\n",
    "\n",
    "    prod = multiply(a, b, m, n)\n",
    "\n",
    "    N = 3\n",
    "    q = 7\n",
    "    result = [0]*N\n",
    "\n",
    "\n",
    "    print(\"\\na(x) * b(x) = \", end='')\n",
    "    printPoly(prod, m+n-1)\n",
    "    for i in range(m+n-1):\n",
    "        if (i < N):\n",
    "            result[i] = prod[i]\n",
    "        if (i >= N):\n",
    "            result[i % N] += prod[i]\n",
    "\n",
    "    for i in range(N):\n",
    "        if (result[i] <= (-q)/2):\n",
    "            result[i] = result[i] % q\n",
    "            if (result[i] > q/2):\n",
    "                result[i] = result[i] - q\n",
    "        elif (result[i] > q/2):\n",
    "            result[i] = result[i] % q\n",
    "            if (result[i] > q/2):\n",
    "                result[i] = result[i] - q\n",
    "            \n",
    "    print(\"\\nc(x) = a(x) * b(x)  (mod q) = \", end='')\n",
    "    printPoly(result, N)"
   ]
  },
  {
   "cell_type": "markdown",
   "metadata": {},
   "source": [
    "### a, N = 3, q = 7, a(x) = 1 + x, b(x) = −5 + 4x + 2x^2"
   ]
  },
  {
   "cell_type": "code",
   "execution_count": 58,
   "metadata": {},
   "outputs": [
    {
     "name": "stdout",
     "output_type": "stream",
     "text": [
      "a(x) = 0 + 1x^ 1\n",
      "b(x) = 5 + 4x^ 1 + 2x^ 2\n",
      "a(x) * b(x) = 0 + 5x^ 1 + 4x^ 2 + 2x^ 3\n",
      "c(x) = a(x) * b(x)  (mod q) = 2 + -2x^ 1 + -3x^ 2"
     ]
    }
   ],
   "source": [
    "a = [0, 1]\n",
    "b = [5, 4, 2]\n",
    "N = 3\n",
    "q = 7\n",
    "Convolution_polynomial(a,b,N,q)"
   ]
  },
  {
   "cell_type": "markdown",
   "metadata": {},
   "source": [
    "### b, N = 5, q = 4, a(x) = 2 + 2x − 2x^2 + x^3 − 2x^4;  b(x) = −1 + 3x − 3x^2 − 3x^3 − 3x^4"
   ]
  },
  {
   "cell_type": "code",
   "execution_count": 61,
   "metadata": {},
   "outputs": [
    {
     "name": "stdout",
     "output_type": "stream",
     "text": [
      "a(x) = 0 + 0x^ 1 + 1x^ 2 + 0x^ 3 + 0x^ 4 + 1x^ 5 + 0x^ 6 + 1x^ 7 + 1x^ 8 + 1x^ 9\n",
      "b(x) = 1 + 1x^ 1 + 0x^ 2 + 1x^ 3 + 1x^ 4 + 1x^ 5 + 0x^ 6 + 1x^ 7 + 1x^ 8 + 1x^ 9\n",
      "a(x) * b(x) = 0 + 0x^ 1 + 1x^ 2 + 1x^ 3 + 0x^ 4 + 2x^ 5 + 2x^ 6 + 2x^ 7 + 3x^ 8 + 4x^ 9 + 4x^ 10 + 3x^ 11 + 4x^ 12 + 3x^ 13 + 3x^ 14 + 2x^ 15 + 3x^ 16 + 2x^ 17 + 1x^ 18\n",
      "c(x) = a(x) * b(x)  (mod q) = 0 + -2x^ 1 + 0x^ 2"
     ]
    }
   ],
   "source": [
    "a = [0, 0, 1, 0, 0,1,0,1,1,1]\n",
    "b = [1,1,0,1,1,1,0,1,1,1]\n",
    "N = 5\n",
    "q = 4\n",
    "Convolution_polynomial(a,b,N,q)"
   ]
  },
  {
   "cell_type": "markdown",
   "metadata": {},
   "source": [
    "### c, N = 7, q = 3, a(x) = x + x^3;   b(x) = x + x^2 + x^4 + x^6"
   ]
  },
  {
   "cell_type": "code",
   "execution_count": 64,
   "metadata": {},
   "outputs": [
    {
     "name": "stdout",
     "output_type": "stream",
     "text": [
      "a(x) = 0 + 1x^ 1 + 0x^ 2 + 1x^ 3\n",
      "b(x) = 0 + 1x^ 1 + 1x^ 2 + 0x^ 3 + 1x^ 4 + 0x^ 5 + 1x^ 6\n",
      "a(x) * b(x) = 0 + 0x^ 1 + 1x^ 2 + 1x^ 3 + 1x^ 4 + 2x^ 5 + 0x^ 6 + 2x^ 7 + 0x^ 8 + 1x^ 9\n",
      "c(x) = a(x) * b(x)  (mod q) = 2 + 3x^ 1 + 3x^ 2"
     ]
    }
   ],
   "source": [
    "a = [0, 1, 0, 1]\n",
    "b = [0, 1, 1, 0, 1, 0, 1]\n",
    "N = 7\n",
    "q = 3\n",
    "Convolution_polynomial(a,b,N,q)"
   ]
  },
  {
   "cell_type": "markdown",
   "metadata": {},
   "source": [
    "### d, N = 10, q = 2, a(x) = x^2 + x^5 + x^7 + x^8 + x^9;    b(x) = 1+ x + x^3 + x^4 + x^5 + x^7 + x^8 + x^9"
   ]
  },
  {
   "cell_type": "code",
   "execution_count": 71,
   "metadata": {},
   "outputs": [
    {
     "name": "stdout",
     "output_type": "stream",
     "text": [
      "a(x) = 0 + 0x^ 1 + 1x^ 2 + 0x^ 3 + 0x^ 4 + 1x^ 5 + 0x^ 6 + 1x^ 7 + 1x^ 8 + 1x^ 9\n",
      "b(x) = 1 + 1x^ 1 + 0x^ 2 + 1x^ 3 + 1x^ 4 + 1x^ 5 + 0x^ 6 + 1x^ 7 + 1x^ 8 + 1x^ 9\n",
      "a(x) * b(x) = 0 + 0x^ 1 + 1x^ 2 + 1x^ 3 + 0x^ 4 + 2x^ 5 + 2x^ 6 + 2x^ 7 + 3x^ 8 + 4x^ 9 + 4x^ 10 + 3x^ 11 + 4x^ 12 + 3x^ 13 + 3x^ 14 + 2x^ 15 + 3x^ 16 + 2x^ 17 + 1x^ 18\n",
      "c(x) = a(x) * b(x)  (mod q) = 0 + -2x^ 1 + 0x^ 2"
     ]
    }
   ],
   "source": [
    "a = [0, 0, 1, 0, 0, 1, 0, 1, 1, 1]\n",
    "b = [1, 1, 0, 1, 1, 1, 0, 1, 1, 1]\n",
    "N = 10\n",
    "q = 2\n",
    "Convolution_polynomial(a,b,N,q)"
   ]
  }
 ],
 "metadata": {
  "kernelspec": {
   "display_name": "Python 3.9.0 32-bit",
   "language": "python",
   "name": "python3"
  },
  "language_info": {
   "codemirror_mode": {
    "name": "ipython",
    "version": 3
   },
   "file_extension": ".py",
   "mimetype": "text/x-python",
   "name": "python",
   "nbconvert_exporter": "python",
   "pygments_lexer": "ipython3",
   "version": "3.9.0"
  },
  "orig_nbformat": 4,
  "vscode": {
   "interpreter": {
    "hash": "cea9595d841ec1ecf31793631ecd1e78a96aad62b1686d20dbe8246706fdb65a"
   }
  }
 },
 "nbformat": 4,
 "nbformat_minor": 2
}
