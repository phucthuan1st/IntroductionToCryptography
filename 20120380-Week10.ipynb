{
 "cells": [
  {
   "cell_type": "markdown",
   "metadata": {},
   "source": [
    "# Thông tin\n",
    "- Họ tên: Nguyễn Phúc Thuần\n",
    "- MSSV: 20120380"
   ]
  },
  {
   "cell_type": "markdown",
   "metadata": {},
   "source": [
    "# Bài làm"
   ]
  },
  {
   "cell_type": "markdown",
   "metadata": {},
   "source": [
    "## 4.2\n",
    "\n",
    "$P=(-1,4), Q=(2,5)$\n",
    "\n",
    "$E: Y^2 = X^3 + 17$\n",
    "\n",
    "### a\n",
    "\n",
    "$PQ = \\dfrac{1}{3} \\cdot x + \\dfrac{13}{3}$\n",
    "\n",
    "$R = PQ \\cap E$\n",
    "\n",
    "$\\Rightarrow (\\dfrac{1}{3} \\cdot x + \\dfrac{13}{3})^2 = X^3 + 17$\n",
    "\n",
    "$\\Rightarrow X^3 + 17 - (\\dfrac{1}{3} \\cdot x + \\dfrac{13}{3})^2 = 0$\n",
    "\n",
    "$\\Rightarrow X^3 + 17 - \\dfrac{1}{9} \\cdot x^2 - 2\\dfrac{13}{9} \\cdot x - \\dfrac{13}{3}^2 = 0$\n",
    "\n",
    "Ta đã biết $X = -1$ và $X = 2$ là 2 nghiệm của phương trình trên\n",
    "\n",
    "Từ đó dễ dàng suy ra nghiệm còn lại là $X = \\dfrac{-8}{9}$\n",
    "\n",
    "Suy ra $R = (\\dfrac{-8}{9},\\dfrac{109}{27})$\n",
    "\n",
    "Vậy $P \\oplus Q = R'(\\dfrac{-8}{9},\\dfrac{-109}{27})$\n",
    "\n",
    "\n",
    "\n"
   ]
  },
  {
   "cell_type": "markdown",
   "metadata": {},
   "source": [
    "$P \\ominus Q = P \\oplus (-Q) = P \\oplus Q'$ với $Q'(2, -5)$\n",
    "\n",
    "$PQ' = -3 \\cdot X + 1$\n",
    "\n",
    "$R = PQ' \\cap E$\n",
    "\n",
    "$\\Rightarrow (-3 \\cdot X + 1)^2 = X^3 + 17$\n",
    "\n",
    "$\\Rightarrow (-3 \\cdot X + 1)^2 - X^3 - 17 = 0$\n",
    "\n",
    "Ta tính được nghiệm thứ ba $X =8$\n",
    "\n",
    "Suy ra $R(8, -23)$\n",
    "\n",
    "Vậy $P \\ominus Q = R'(8,23)$"
   ]
  },
  {
   "cell_type": "markdown",
   "metadata": {},
   "source": [
    "### b\n",
    "\n",
    "Ta có: $\\dfrac{dY}{dX} = \\dfrac{3X^2}{2Y}$\n",
    "\n",
    "$\\Rightarrow \\lambda_P = \\dfrac{3}{8} \n",
    "\\Rightarrow \\text{ tiếp tuyến tại P là } \n",
    "L:Y=\\dfrac{3}{8} \\cdot X + \\dfrac{35}{8} $\n",
    "\n",
    "Khi đó:\n",
    "\n",
    "$(\\dfrac{3}{8} \\cdot X + \\dfrac{35}{8})^2 = X^3 + 17$\n",
    "$\\Rightarrow X = \\dfrac{137}{64}$ là nghiệm thứ 3 cần tìm\n",
    "\n",
    "Do đó $2P = (\\dfrac{137}{64}, -\\dfrac{2651}{512})$\n",
    "\n",
    "Tương tự:\n",
    "$\\dfrac{dY}{dX} = \\dfrac{3X^2}{2Y}$\n",
    "$\\Rightarrow \\lambda_Q = \\dfrac{6}{5} \n",
    "\\Rightarrow \\text{ tiếp tuyến tại Q là } \n",
    "L:Y=\\dfrac{6}{5} \\cdot X + \\dfrac{13}{5} $\n",
    "\n",
    "Khi đó:\n",
    "\n",
    "$(\\dfrac{6}{5} \\cdot X + \\dfrac{13}{5})^2 = X^3 + 17$\n",
    "$\\Rightarrow X = \\dfrac{-64}{25}$ là nghiệm thứ 3 cần tìm\n",
    "\n",
    "Do đó $2Q = (\\dfrac{-64}{25}, -\\dfrac{59}{125})$\n",
    "\n",
    "\n"
   ]
  },
  {
   "cell_type": "markdown",
   "metadata": {},
   "source": [
    "## 5.3\n",
    "\n",
    "Khai triển vế phải, ta được đẳng thức:\n",
    "\n",
    "$X^3 + AX + B = X^3 - (e_1 + e_2 + e_3)X^2 + (e_1e_2 + e_1e_3 + e_2e_3)X - e_1e_2e_3$\n",
    "\n",
    "Đồng nhất các hệ số:\n",
    "\n",
    "$\n",
    "e_1 + e_2 + e_3 = 0 \\\\\n",
    "e_1e_2 + e_1e_3 + e_2e_3 = A \\\\\n",
    "e_1e_2e_3 = B \\\\\n",
    "$\n",
    "\n",
    "Giả sử $e_2 = e_3$. Khi đó:\n",
    "\n",
    "$\n",
    "\\begin{align}\n",
    "e_1 + 2e_2 = 0 \\tag{1} \\\\\n",
    "2e_1e_2 + {e_2}^2 = A \\tag{2} \\\\\n",
    "e_1{e_2}^2 = B \\tag{3}\n",
    "\\end{align}\n",
    "$\n",
    "\n",
    "Từ $(1)$ thế $e_1 = -2e_2$ vào $(2)$ và $(3)$ ta được:\n",
    "$-3{e_2}^2 = A$ và $-2{e_2}^3 = B$\n",
    "\n",
    "Khi đó $4A^3 + 27B^2 = 4(-3{e_2}^2)^3 + 27(-2{e_2}^3)^2 = 0$"
   ]
  },
  {
   "cell_type": "markdown",
   "metadata": {},
   "source": [
    "## 5.6"
   ]
  },
  {
   "cell_type": "code",
   "execution_count": 624,
   "metadata": {},
   "outputs": [],
   "source": [
    "def inverse(x, p):\n",
    "    if x % p == 0:\n",
    "        return None\n",
    "    \n",
    "    return pow(x, p-2, p)\n",
    "    \n",
    "def ellyptic_addition(P, Q, E, p):\n",
    "    __O__ = (0,0)\n",
    "    if P == __O__:\n",
    "        return Q\n",
    "    \n",
    "    if Q == __O__:\n",
    "        return P\n",
    "    \n",
    "    x1, y1 = P\n",
    "    x2, y2 = Q\n",
    "    \n",
    "    if x1 == x2 and y1 == -y2:\n",
    "        return __O__\n",
    "    \n",
    "    if P != Q:\n",
    "        denom = inverse(x2 - x1, p)\n",
    "        if denom == None:\n",
    "            return __O__\n",
    "        \n",
    "        __lambda__ = ((y2 - y1)*denom) % p\n",
    "    else:\n",
    "        A,_ = E\n",
    "        denom = inverse(2*y1, p)\n",
    "        if denom == None:\n",
    "            return __O__\n",
    "        \n",
    "        __lambda__ = ((3*pow(x1, 2) + A) * denom) % p\n",
    "        \n",
    "    x3 = pow(__lambda__, 2) - x1 - x2\n",
    "    y3 = __lambda__*(x1 - x3) - y1\n",
    "    \n",
    "    return (x3 % p, y3 % p)\n",
    "\n",
    "def square_root(x, p):\n",
    "    return [i for i in range(0,p) if pow(i, 2, p) == x]\n",
    "\n",
    "def elliptic_points(a, b, p):\n",
    "    E_points = [(0,0)]\n",
    "    \n",
    "    for x in range(0,p):\n",
    "        yy = pow(x, 3) + a*x + b\n",
    "        sqr = square_root(yy % p, p)\n",
    "    \n",
    "    if len(sqr) > 0:\n",
    "        for y in sqr:\n",
    "            E_points.append((x, y))\n",
    "            \n",
    "    return E_points\n",
    "    \n",
    "def addition_table_for_ellyptic_curve(a, b, p):\n",
    "    \n",
    "    E = (a,b)\n",
    "    \n",
    "    E_points = elliptic_points(a, b, p)\n",
    "    \n",
    "    print(f'E(Fp) = {E_points}')\n",
    "    \n",
    "    table = []\n",
    "    \n",
    "    for P in E_points:\n",
    "        row = []\n",
    "        for Q in E_points:\n",
    "            row.append(ellyptic_addition(P, Q, E, p))\n",
    "            \n",
    "        table.append(row)\n",
    "    \n",
    "    return table\n",
    "\n",
    "def print_elliptic_addition_table(table):   \n",
    "    first_row = table[0]\n",
    "    row_string = \"\"\n",
    "    for point in first_row:\n",
    "            if point == (0,0):\n",
    "                row_string += '\\tO\\t'\n",
    "            else:\n",
    "                row_string += f'\\t{point}\\t'\n",
    "    print(f'\\t|{row_string}')\n",
    "    \n",
    "    for row in table:\n",
    "        row_string = \"\"\n",
    "        for point in row:\n",
    "            if point == (0,0):\n",
    "                row_string += '\\tO\\t'\n",
    "            else:\n",
    "                row_string += f'\\t{point}\\t'\n",
    "        print(f'{row[0]}\\t| {row_string}')\n",
    "    "
   ]
  },
  {
   "cell_type": "markdown",
   "metadata": {},
   "source": [
    "### (a)"
   ]
  },
  {
   "cell_type": "code",
   "execution_count": 625,
   "metadata": {},
   "outputs": [
    {
     "name": "stdout",
     "output_type": "stream",
     "text": [
      "E(Fp) = [(0, 0), (4, 0)]\n",
      "\t|\tO\t\t(4, 0)\t\n",
      "(0, 0)\t| \tO\t\t(4, 0)\t\n",
      "(4, 0)\t| \t(4, 0)\t\tO\t\n"
     ]
    }
   ],
   "source": [
    "table = addition_table_for_ellyptic_curve(1, 2, 5)\n",
    "print_elliptic_addition_table(table)"
   ]
  },
  {
   "cell_type": "markdown",
   "metadata": {},
   "source": [
    "### (b)"
   ]
  },
  {
   "cell_type": "code",
   "execution_count": 626,
   "metadata": {},
   "outputs": [
    {
     "name": "stdout",
     "output_type": "stream",
     "text": [
      "E(Fp) = [(0, 0), (6, 0)]\n",
      "\t|\tO\t\t(6, 0)\t\n",
      "(0, 0)\t| \tO\t\t(6, 0)\t\n",
      "(6, 0)\t| \t(6, 0)\t\tO\t\n"
     ]
    }
   ],
   "source": [
    "table = addition_table_for_ellyptic_curve(2, 3, 7)\n",
    "print_elliptic_addition_table(table)"
   ]
  },
  {
   "cell_type": "markdown",
   "metadata": {},
   "source": [
    "### (c)"
   ]
  },
  {
   "cell_type": "code",
   "execution_count": 627,
   "metadata": {},
   "outputs": [
    {
     "name": "stdout",
     "output_type": "stream",
     "text": [
      "E(Fp) = [(0, 0)]\n",
      "\t|\tO\t\n",
      "(0, 0)\t| \tO\t\n"
     ]
    }
   ],
   "source": [
    "table = addition_table_for_ellyptic_curve(2, 5, 11)\n",
    "print_elliptic_addition_table(table)"
   ]
  },
  {
   "cell_type": "markdown",
   "metadata": {},
   "source": [
    "## 5.9\n",
    "\n",
    "Giả sử $n = is + r$ với $0 \\le r < s$, khi đó:\n",
    "\n",
    "$Q = nP = (is + r)P = i\\cdot(sP) + rP = iO + rP = rP$\n",
    "\n",
    "Vì $n_0$ là nghiệm nhỏ nhất của phương trình $Q = nP$ nên $r \\ge n_0$\n",
    "\n",
    "Với $r = n_0 \\Rightarrow n = 0s + r = 0s + n_0 = n_0$ (hiển nhiên đúng)\n",
    "\n",
    "Với $r > n \\Rightarrow rP - n_0P = (r-n_0)P = Q - Q = O \\Rightarrow r - n_0 \\ge s$\n",
    "\n",
    "Điều này trái với giả thiết ban đầu là $r < s$\n",
    "\n",
    "Do đó khả năng duy nhất xảy ra là $r = n_0$ hay $n = is + n_0$ (điều phải chứng minh)\n"
   ]
  },
  {
   "cell_type": "markdown",
   "metadata": {},
   "source": [
    "## 5.10"
   ]
  },
  {
   "cell_type": "code",
   "execution_count": 628,
   "metadata": {},
   "outputs": [],
   "source": [
    "def double_and_add(P, n, a, b, p):\n",
    "    \n",
    "    Q = P\n",
    "    R = (0,0)\n",
    "    \n",
    "    while n > 0:\n",
    "        if n & 1:\n",
    "            R = ellyptic_addition(R, Q, (a, b), p)\n",
    "        Q = ellyptic_addition(Q, Q, (a, b), p)\n",
    "        n = n >> 1\n",
    "    \n",
    "    return R"
   ]
  },
  {
   "cell_type": "markdown",
   "metadata": {},
   "source": [
    "### (a)"
   ]
  },
  {
   "cell_type": "code",
   "execution_count": 629,
   "metadata": {},
   "outputs": [
    {
     "name": "stdout",
     "output_type": "stream",
     "text": [
      "19P = (24, 69)\n"
     ]
    }
   ],
   "source": [
    "a = 23\n",
    "b = 13\n",
    "p = 83\n",
    "P = (24, 14)\n",
    "n = 19\n",
    "\n",
    "nP = double_and_add(P, n, a, b, p)\n",
    "print(f'{n}P = {nP}')\n"
   ]
  },
  {
   "cell_type": "markdown",
   "metadata": {},
   "source": [
    "### (b)"
   ]
  },
  {
   "cell_type": "code",
   "execution_count": 630,
   "metadata": {},
   "outputs": [
    {
     "name": "stdout",
     "output_type": "stream",
     "text": [
      "23P = (485, 573)\n"
     ]
    }
   ],
   "source": [
    "a = 143\n",
    "b = 367\n",
    "p = 613\n",
    "P = (195, 9)\n",
    "n = 23\n",
    "\n",
    "nP = double_and_add(P, n, a, b, p)\n",
    "print(f'{n}P = {nP}')"
   ]
  },
  {
   "cell_type": "markdown",
   "metadata": {},
   "source": [
    "### (c)"
   ]
  },
  {
   "cell_type": "code",
   "execution_count": 631,
   "metadata": {},
   "outputs": [
    {
     "name": "stdout",
     "output_type": "stream",
     "text": [
      "11P = (1068, 1540)\n"
     ]
    }
   ],
   "source": [
    "a = 1828\n",
    "b = 1675\n",
    "p = 1999\n",
    "P = (1756, 348)\n",
    "n = 11\n",
    "\n",
    "nP = double_and_add(P, n, a, b, p)\n",
    "print(f'{n}P = {nP}')"
   ]
  },
  {
   "cell_type": "markdown",
   "metadata": {},
   "source": [
    "### (d)"
   ]
  },
  {
   "cell_type": "code",
   "execution_count": 632,
   "metadata": {},
   "outputs": [
    {
     "name": "stdout",
     "output_type": "stream",
     "text": [
      "3211P = (243, 1875)\n"
     ]
    }
   ],
   "source": [
    "a = 1541\n",
    "b = 1335\n",
    "p = 3221\n",
    "P = (2898, 439)\n",
    "n = 3211\n",
    "\n",
    "nP = double_and_add(P, n, a, b, p)\n",
    "print(f'{n}P = {nP}')"
   ]
  },
  {
   "cell_type": "markdown",
   "metadata": {},
   "source": [
    "## 5.11"
   ]
  },
  {
   "cell_type": "code",
   "execution_count": 633,
   "metadata": {},
   "outputs": [],
   "source": [
    "def binary_presentation(n: int):\n",
    "    result = []\n",
    "    \n",
    "    while n != 0:\n",
    "        result.append(n & 1)\n",
    "        n = n >> 1\n",
    "    \n",
    "    # result.reverse()    \n",
    "    return result"
   ]
  },
  {
   "cell_type": "code",
   "execution_count": 634,
   "metadata": {},
   "outputs": [],
   "source": [
    "def ternary_presentation(n: int):\n",
    "    binary_present = binary_presentation(n)\n",
    "    binary_present.append(0)\n",
    "    \n",
    "    terna_present = []\n",
    "    sub_terna = []\n",
    "    \n",
    "    for s, bit in enumerate(binary_present):\n",
    "        if bit == 1:\n",
    "            sub_terna.append(s)\n",
    "        elif bit == 0 and len(sub_terna) > 0:\n",
    "            start = sub_terna[0]\n",
    "            t = len(sub_terna)\n",
    "            \n",
    "            if (-1, start) in terna_present:\n",
    "                terna_present.remove((-1, start))\n",
    "                terna_present.append((-1, start+1))\n",
    "            else:\n",
    "                terna_present.append((-1, start))\n",
    "            \n",
    "            if (1, start+t) in terna_present:\n",
    "                terna_present.remove((1, start+t))\n",
    "                terna_present.append((1, start+t+1))\n",
    "            else:\n",
    "                terna_present.append((1, start+t))\n",
    "                \n",
    "            sub_terna.clear()\n",
    "\n",
    "    for (sign, expo) in terna_present:\n",
    "        if (-sign, expo) in terna_present:\n",
    "            terna_present.remove((sign, expo))\n",
    "            terna_present.remove((-sign, expo))\n",
    "\n",
    "    terna_present.sort(key = lambda x:x[1])\n",
    "    return terna_present\n",
    "\n",
    "def print_binary_present(n, binary_present):\n",
    "    present_string = \"\"\n",
    "    for expo, bit in enumerate(binary_present):\n",
    "        if bit == 1:\n",
    "            present_string += f'2^{expo} + '\n",
    "    \n",
    "    print(f'Binary present: {n} = {present_string[:-2]}')\n",
    "    \n",
    "def print_ternary_present(n, ternary_present):\n",
    "    present_string = \"\"\n",
    "    for sign, expo in ternary_present:\n",
    "        if sign == 1:\n",
    "            present_string += '+ '\n",
    "        if sign == -1:\n",
    "            present_string += '- '\n",
    "        \n",
    "        present_string += f'2^{expo} '\n",
    "    \n",
    "    print(f'Tenary present: {n} = {present_string}')"
   ]
  },
  {
   "cell_type": "code",
   "execution_count": 635,
   "metadata": {},
   "outputs": [
    {
     "name": "stdout",
     "output_type": "stream",
     "text": [
      "Binary present: 349 = 2^0 + 2^2 + 2^3 + 2^4 + 2^6 + 2^8 \n",
      "Tenary present: 349 = - 2^0 + 2^1 - 2^2 + 2^5 - 2^6 + 2^7 - 2^8 + 2^9 \n"
     ]
    }
   ],
   "source": [
    "n = 349\n",
    "print_binary_present(n, binary_presentation(n))\n",
    "print_ternary_present(n, ternary_presentation(n))\n"
   ]
  },
  {
   "cell_type": "code",
   "execution_count": 636,
   "metadata": {},
   "outputs": [
    {
     "name": "stdout",
     "output_type": "stream",
     "text": [
      "Binary present: 9337 = 2^0 + 2^3 + 2^4 + 2^5 + 2^6 + 2^10 + 2^13 \n",
      "Tenary present: 9337 = - 2^0 + 2^1 - 2^3 + 2^7 - 2^10 + 2^11 - 2^13 + 2^14 \n"
     ]
    }
   ],
   "source": [
    "n = 9337\n",
    "print_binary_present(n, binary_presentation(n))\n",
    "print_ternary_present(n, ternary_presentation(n))"
   ]
  },
  {
   "cell_type": "code",
   "execution_count": 637,
   "metadata": {},
   "outputs": [
    {
     "name": "stdout",
     "output_type": "stream",
     "text": [
      "Binary present: 38728 = 2^3 + 2^6 + 2^8 + 2^9 + 2^10 + 2^12 + 2^15 \n",
      "Tenary present: 38728 = - 2^3 + 2^4 - 2^6 + 2^7 - 2^8 + 2^11 - 2^12 + 2^13 - 2^15 + 2^16 \n"
     ]
    }
   ],
   "source": [
    "n = 38728\n",
    "print_binary_present(n, binary_presentation(n))\n",
    "print_ternary_present(n, ternary_presentation(n))"
   ]
  },
  {
   "cell_type": "code",
   "execution_count": 638,
   "metadata": {},
   "outputs": [
    {
     "name": "stdout",
     "output_type": "stream",
     "text": [
      "Binary present: 8379483273489 = 2^0 + 2^4 + 2^8 + 2^11 + 2^12 + 2^13 + 2^15 + 2^16 + 2^17 + 2^18 + 2^19 + 2^20 + 2^32 + 2^33 + 2^34 + 2^35 + 2^36 + 2^39 + 2^40 + 2^41 + 2^42 \n",
      "Tenary present: 8379483273489 = - 2^0 + 2^1 - 2^4 + 2^5 - 2^8 + 2^9 - 2^11 + 2^14 - 2^15 + 2^21 - 2^32 + 2^37 - 2^39 + 2^43 \n"
     ]
    }
   ],
   "source": [
    "n = 8379483273489\n",
    "print_binary_present(n, binary_presentation(n))\n",
    "print_ternary_present(n, ternary_presentation(n))"
   ]
  },
  {
   "cell_type": "markdown",
   "metadata": {},
   "source": [
    "## 5.13"
   ]
  },
  {
   "cell_type": "markdown",
   "metadata": {},
   "source": [
    "### a\n",
    "Bob gửi cho Alice $Q_B = n_BP = (1432, 667)$"
   ]
  },
  {
   "cell_type": "code",
   "execution_count": 639,
   "metadata": {},
   "outputs": [
    {
     "name": "stdout",
     "output_type": "stream",
     "text": [
      "Q = (1432, 667)\n"
     ]
    }
   ],
   "source": [
    "nB = 1943\n",
    "P = (1980, 431)\n",
    "a = 171\n",
    "b = 853\n",
    "p = 2671\n",
    "print('Q =',double_and_add(P, nB, a, b, p))"
   ]
  },
  {
   "cell_type": "markdown",
   "metadata": {},
   "source": [
    "### c\n",
    "Bằng máy tính, khi Eve biết được $Q_A$ mà Alice gửi cho Bob và $P$, Alice có thể dùng nó để tính ra $n_A$ bằng Bruteforce nếu $p$ không quá lớn"
   ]
  },
  {
   "cell_type": "code",
   "execution_count": 640,
   "metadata": {},
   "outputs": [
    {
     "name": "stdout",
     "output_type": "stream",
     "text": [
      "secrect number of Alice is: 726\n"
     ]
    }
   ],
   "source": [
    "def find_nA(Q, P, a, b, p):\n",
    "    for nE in range(2, p):\n",
    "        if Q == double_and_add(P, nE, a, b, p):\n",
    "            return nE\n",
    "\n",
    "QA = (2110, 543)\n",
    "print(f'secrect number of Alice is: {find_nA(QA, P, a, b, p)}')"
   ]
  },
  {
   "cell_type": "markdown",
   "metadata": {},
   "source": [
    "Như ta thấy, với đoạn chương trình đơn giản trên, Eve có thể tìm ra $n_A = 726$ chỉ trong một vài giây."
   ]
  },
  {
   "cell_type": "markdown",
   "metadata": {},
   "source": [
    "### d\n",
    "Bob tính được $Q_B = (161, 240)$, và gửi cho Alice $x_B = 161$\n",
    "\n",
    "Để tính giá trị chung, Bob cần tính lại $Q_A$ và có thể tính một cách dễ dàng bằng cách thế vào phương trình của đường cong Elliptic:\n",
    "\n",
    "$y^2_A = x^3_A + 171x_A + 853 = 1203 \\Rightarrow y_A = 2575$ (mod $2671$)\n",
    "\n",
    "Khi đó key chung sẽ là: $n_BQ_A = 875\\cdot (2, 2575) = (1708, 1419)$ và giá trị được dùng chung là $x = 1708$"
   ]
  }
 ],
 "metadata": {
  "kernelspec": {
   "display_name": "Python 3.9.0 64-bit",
   "language": "python",
   "name": "python3"
  },
  "language_info": {
   "codemirror_mode": {
    "name": "ipython",
    "version": 3
   },
   "file_extension": ".py",
   "mimetype": "text/x-python",
   "name": "python",
   "nbconvert_exporter": "python",
   "pygments_lexer": "ipython3",
   "version": "3.9.0"
  },
  "orig_nbformat": 4,
  "vscode": {
   "interpreter": {
    "hash": "ff1200cc413885a26299d5081e03f20b97b392fc1baa637c4818e9e43d99bbec"
   }
  }
 },
 "nbformat": 4,
 "nbformat_minor": 2
}
