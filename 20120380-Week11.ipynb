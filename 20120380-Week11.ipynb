{
 "cells": [
  {
   "attachments": {},
   "cell_type": "markdown",
   "metadata": {},
   "source": [
    "# Thông tin\n",
    "- Họ tên: Nguyễn Phúc Thuần\n",
    "- MSSV: 20120380"
   ]
  },
  {
   "attachments": {},
   "cell_type": "markdown",
   "metadata": {},
   "source": [
    "# Bài làm"
   ]
  },
  {
   "cell_type": "code",
   "execution_count": 154,
   "metadata": {},
   "outputs": [],
   "source": [
    "def inverse_modulo(n, p):\n",
    "    return pow(n, -1, p)"
   ]
  },
  {
   "attachments": {},
   "cell_type": "markdown",
   "metadata": {},
   "source": [
    "## 6.1\n",
    "### (a)\n",
    "Khóa công khai h của Alice là $h \\equiv f^{-1}g \\mod q \\equiv 19928^{-1}18643 \\equiv 767748560 \\mod 918293817$"
   ]
  },
  {
   "cell_type": "code",
   "execution_count": 155,
   "metadata": {},
   "outputs": [
    {
     "name": "stdout",
     "output_type": "stream",
     "text": [
      "h = 767748560\n"
     ]
    }
   ],
   "source": [
    "f = 19928\n",
    "g = 18643\n",
    "q = 918293817\n",
    "h = (inverse_modulo(f, q) * g) % q\n",
    "print(f'h = {h}')"
   ]
  },
  {
   "attachments": {},
   "cell_type": "markdown",
   "metadata": {},
   "source": [
    "### (b)\n",
    "Để giải mã, đầu tiên Alice cần tính \n",
    "\n",
    "$a \\equiv fe \\equiv 19928 \\cdot 619168806 \\equiv 600240756 \\mod 918293817$"
   ]
  },
  {
   "cell_type": "code",
   "execution_count": 156,
   "metadata": {},
   "outputs": [
    {
     "name": "stdout",
     "output_type": "stream",
     "text": [
      "a = 600240756\n"
     ]
    }
   ],
   "source": [
    "e = 619168806\n",
    "a = f * e % q\n",
    "print(f'a = {a}')"
   ]
  },
  {
   "attachments": {},
   "cell_type": "markdown",
   "metadata": {},
   "source": [
    "Sau đó tính:\n",
    "\n",
    "$m = f^{-1}a \\equiv 19928^{-1}600240756 \\equiv 11818 \\mod g$"
   ]
  },
  {
   "cell_type": "code",
   "execution_count": 157,
   "metadata": {},
   "outputs": [
    {
     "name": "stdout",
     "output_type": "stream",
     "text": [
      "m = 11818\n"
     ]
    }
   ],
   "source": [
    "m = inverse_modulo(f, g) * a % g\n",
    "print(f'm = {m}')"
   ]
  },
  {
   "attachments": {},
   "cell_type": "markdown",
   "metadata": {},
   "source": [
    "Plaintext cần tìm là $m = 11818$"
   ]
  },
  {
   "attachments": {},
   "cell_type": "markdown",
   "metadata": {},
   "source": [
    "### (c)\n",
    "Ta có $e \\equiv rh + m \\mod q \\equiv 19564\\cdot767748560 + 10220 \\mod 918293817 \\equiv 619167208 \\mod 619167208$"
   ]
  },
  {
   "cell_type": "code",
   "execution_count": 158,
   "metadata": {},
   "outputs": [
    {
     "name": "stdout",
     "output_type": "stream",
     "text": [
      "e = 619167208\n"
     ]
    }
   ],
   "source": [
    "r = 19564\n",
    "m = 10220\n",
    "e = (r*h + m) % q\n",
    "print(f'e = {e}')"
   ]
  },
  {
   "attachments": {},
   "cell_type": "markdown",
   "metadata": {},
   "source": [
    "Ciphertext Bob gửi cho Alice là $e = 619167208$"
   ]
  },
  {
   "attachments": {},
   "cell_type": "markdown",
   "metadata": {},
   "source": [
    "## 6.3\n"
   ]
  },
  {
   "attachments": {},
   "cell_type": "markdown",
   "metadata": {},
   "source": [
    "Ta biết rằng $M_i = Ar_i\\mod B$ với $r_n < \\frac{B}{2}$. Do đó Eve có thể suy ra $r_i \\equiv \\dfrac{M_i}{A}\\mod{B}$"
   ]
  },
  {
   "cell_type": "code",
   "execution_count": 159,
   "metadata": {},
   "outputs": [],
   "source": [
    "def resolve_binary(M, A, B):\n",
    "    r = []\n",
    "    for sack in M:\n",
    "        r.append(sack * inverse_modulo(A, B) % B)\n",
    "        \n",
    "    return r"
   ]
  },
  {
   "cell_type": "code",
   "execution_count": 160,
   "metadata": {},
   "outputs": [
    {
     "name": "stdout",
     "output_type": "stream",
     "text": [
      "r = [5, 14, 30, 75, 160, 351, 750, 1579, 3253, 6500]\n"
     ]
    }
   ],
   "source": [
    "M = (5186, 2779, 5955, 2307, 6599, 6771, 6296, 7306, 4115, 7039)\n",
    "A = 4392\n",
    "B = 8387\n",
    "S = 26560\n",
    "r = resolve_binary(M, A, B)\n",
    "print(f'r = {r}')"
   ]
  },
  {
   "attachments": {},
   "cell_type": "markdown",
   "metadata": {},
   "source": [
    "Bằng cách trên Eve tìm được superincreasing sequence r = {5, 14, 30, 75, 160, 351, 750, 1579, 3253, 6500}\n",
    "\n",
    "Eve tiến hành tính $S' = A^{-1}S \\mod{B} \\equiv 4528\\mod{8387}$"
   ]
  },
  {
   "cell_type": "code",
   "execution_count": 161,
   "metadata": {},
   "outputs": [
    {
     "name": "stdout",
     "output_type": "stream",
     "text": [
      "S' = 4528\n"
     ]
    }
   ],
   "source": [
    "S1 = inverse_modulo(A, B) * S % B\n",
    "print(f'S\\' = {S1}')"
   ]
  },
  {
   "attachments": {},
   "cell_type": "markdown",
   "metadata": {},
   "source": [
    "Cuối cùng, với thuật toán đã nêu ở phần Proposition 6.5, Eve tính x:"
   ]
  },
  {
   "cell_type": "code",
   "execution_count": 162,
   "metadata": {},
   "outputs": [],
   "source": [
    "def solve_subset(M, S):\n",
    "    n = len(M)\n",
    "    x = [0] * n\n",
    "    for i in reversed(range(n)):\n",
    "        if S >= M[i]:\n",
    "            x[i] = 1\n",
    "            S = S - r[i]\n",
    "            \n",
    "    return x"
   ]
  },
  {
   "cell_type": "code",
   "execution_count": 163,
   "metadata": {},
   "outputs": [
    {
     "name": "stdout",
     "output_type": "stream",
     "text": [
      "x = [0, 1, 0, 0, 1, 1, 1, 0, 1, 0]\n"
     ]
    }
   ],
   "source": [
    "x = solve_subset(r, S1)\n",
    "print(f'x = {x}')"
   ]
  },
  {
   "attachments": {},
   "cell_type": "markdown",
   "metadata": {},
   "source": [
    "Vậy plaintext x mà Bob gửi cho Alice là x = {0, 1, 0, 0, 1, 1, 1, 0, 1, 0}"
   ]
  },
  {
   "attachments": {},
   "cell_type": "markdown",
   "metadata": {},
   "source": [
    "## 6.6"
   ]
  },
  {
   "cell_type": "code",
   "execution_count": 164,
   "metadata": {},
   "outputs": [],
   "source": [
    "import numpy as np\n",
    "\n",
    "def get_orthogonal(V):\n",
    "\n",
    "    n = V.shape[1]\n",
    "    for j in range(n):\n",
    "\n",
    "        for k in range(j):\n",
    "            V[:, j] -= np.dot(V[:, k], V[:, j]) * V[:, k]\n",
    "        V[:, j] = V[:, j] / np.linalg.norm(V[:, j])\n",
    "    return V"
   ]
  },
  {
   "attachments": {},
   "cell_type": "markdown",
   "metadata": {},
   "source": [
    "### (a)"
   ]
  },
  {
   "cell_type": "code",
   "execution_count": 165,
   "metadata": {},
   "outputs": [
    {
     "name": "stdout",
     "output_type": "stream",
     "text": [
      "V_star = [[ 0.21821789  0.88182973 -0.41803981]\n",
      " [ 0.87287156  0.01520396  0.48771311]\n",
      " [-0.43643578  0.47132279  0.76640632]]\n"
     ]
    }
   ],
   "source": [
    "V = np.array([[1.0, 3.0, 2.0], [4.0, 1.0, -2.0], [-2.0, 1.0, 3.0]])\n",
    "\n",
    "V_star = get_orthogonal(V)\n",
    "print(f'V_star = {V_star}')"
   ]
  },
  {
   "attachments": {},
   "cell_type": "markdown",
   "metadata": {},
   "source": [
    "### (b)"
   ]
  },
  {
   "cell_type": "code",
   "execution_count": 166,
   "metadata": {},
   "outputs": [
    {
     "name": "stdout",
     "output_type": "stream",
     "text": [
      "V_star = [[ 0.87287156 -0.26726124  0.40824829 -0.57735027]\n",
      " [ 0.43643578  0.80178373 -0.40824829 -0.57735027]\n",
      " [ 0.21821789 -0.53452248 -0.81649658 -0.57735027]]\n"
     ]
    }
   ],
   "source": [
    "V = np.array([[4, 1, 3, -1], [2, 1, -3, 4], [1.0, 0, -2, 7]])\n",
    "\n",
    "V_star = get_orthogonal(V)\n",
    "print(f'V_star = {V_star}')"
   ]
  },
  {
   "attachments": {},
   "cell_type": "markdown",
   "metadata": {},
   "source": [
    "## 6.10\n",
    "### b, det(A) ≠ 0. Chứng minh $A^{-1} = \\dfrac{1}{det(A)}B$\n",
    "\n",
    "Xét tính chất của phần tử kề của ma trận vuông\n",
    "\n",
    "Ta có $det(A) = A.B$ \n",
    "\n",
    "$\\Rightarrow   A^{-1}det(A) = A^{-1}AB \\\\\n",
    "\\Leftrightarrow  A^{-1}det(A) = I_nB \\\\\n",
    "\\Leftrightarrow  A^{-1} = \\dfrac{B}{det(A)}$ (đpcm)\n",
    "\n",
    "### a, Chứng minh $AB = BA = det(A)I_n$\n",
    "Ta mượn kết quả đã chứng minh ở câu b:\n",
    "\n",
    "$\n",
    "A^{-1} = B/det(A)\n",
    "\\Leftrightarrow  A.A^{-1} = (A.B)/det(A)\n",
    "\\Leftrightarrow I = (A.B)/det(A)$ (1)\n",
    "\n",
    "và \n",
    "\n",
    "$A^{-1} . A = \\dfrac{BA}{det(A)}\n",
    "\\Leftrightarrow  I = \\dfrac{BA}{det(A)}$ (2)\n",
    "\n",
    "Từ (1) và (2) suy ra: $I_n = \\dfrac{AB}{det(A)} = \\dfrac{BA}{det(A)}$\n",
    "\n",
    "Hay $AB = BA = det(A)I_n$ (đpcm)\n"
   ]
  }
 ],
 "metadata": {
  "kernelspec": {
   "display_name": "Python 3",
   "language": "python",
   "name": "python3"
  },
  "language_info": {
   "codemirror_mode": {
    "name": "ipython",
    "version": 3
   },
   "file_extension": ".py",
   "mimetype": "text/x-python",
   "name": "python",
   "nbconvert_exporter": "python",
   "pygments_lexer": "ipython3",
   "version": "3.9.0 (tags/v3.9.0:9cf6752, Oct  5 2020, 15:34:40) [MSC v.1927 64 bit (AMD64)]"
  },
  "orig_nbformat": 4,
  "vscode": {
   "interpreter": {
    "hash": "ff1200cc413885a26299d5081e03f20b97b392fc1baa637c4818e9e43d99bbec"
   }
  }
 },
 "nbformat": 4,
 "nbformat_minor": 2
}
