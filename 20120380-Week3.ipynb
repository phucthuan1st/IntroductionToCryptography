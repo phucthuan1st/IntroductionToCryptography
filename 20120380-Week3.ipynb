{
 "cells": [
  {
   "cell_type": "markdown",
   "metadata": {},
   "source": [
    "# Thông tin:\n",
    "- Họ tên: Nguyễn Phúc Thuần\n",
    "- MSSV: 20120380"
   ]
  },
  {
   "cell_type": "markdown",
   "metadata": {},
   "source": [
    "### 2.3\n",
    "#### (a)\n",
    "Theo đề bài ta có: $g^a \\equiv g^b \\equiv h$ (mod p)\n",
    "\n",
    "$\\Rightarrow \\dfrac{g^a}{g^b} \\equiv 1$ (mod p) $\\Rightarrow g^{a-b} \\equiv 1$ (mod p)\n",
    "\n",
    "$\\Rightarrow (p-1) | (g^{a-b})$\n",
    "\n",
    "Mà $g$ là một primitive root của $F_p$ nên $(p - 1)$ | $a - b$\n",
    "\n",
    "hay $a \\equiv b$ mod ($p - 1$)\n",
    "\n",
    "Điều này cho ta được: $(p-1)|\\log_g{h}$ với $h \\in F^*_p$ \n",
    "\n",
    "Từ đó ta có được sơ đồ 2.1 \n",
    "\n",
    "#### (b) \n",
    "Ta có: $g^{\\log_g{h_1} + \\log_g{h_2}} = g^{\\log_g{h_1}}.g^{\\log_g{h_2}} \\equiv h_1.h_2$ (mod $p$) $\\equiv g^{\\log_g{h_1h_2}}$ (mod $p$)\n",
    "\n",
    "$\\Rightarrow log_g{h_1} + log_g{h_2} \\equiv log_g(h_1.h_2)$ (mod $p$) và đồng thời $log_g{h_1} + log_g{h_2} = log_g(h_1.h_2)$ (mod $p$)\n",
    "#### (c)\n",
    "Ta có $g^{n.log_g(h)} = (g^{\\log_g(h)})^n \\equiv h^n \\equiv g^{\\log_g{h^n}}$ (mod $p$)\n",
    "\n",
    "$\\Rightarrow log_g{h^n} \\equiv n.log_g{h}$ (mod $p$)"
   ]
  },
  {
   "cell_type": "markdown",
   "metadata": {},
   "source": [
    "### 2.4"
   ]
  },
  {
   "cell_type": "markdown",
   "metadata": {},
   "source": [
    "find discrete logrithms function:"
   ]
  },
  {
   "cell_type": "code",
   "execution_count": 100,
   "metadata": {},
   "outputs": [],
   "source": [
    "def find_discrete_logarithms(base_g, h, p):\n",
    "    if h > p:\n",
    "        h = h % p\n",
    "    \n",
    "    x_i = 1\n",
    "    g_x = (base_g**x_i) % p\n",
    "    \n",
    "    while h != g_x:\n",
    "        x_i += 1\n",
    "        g_x = (base_g**x_i) % p\n",
    "    \n",
    "    x = x_i\n",
    "    return x"
   ]
  },
  {
   "cell_type": "markdown",
   "metadata": {},
   "source": [
    "#### (a) $\\log_2{13}$ in $Z_{23}$"
   ]
  },
  {
   "cell_type": "code",
   "execution_count": 101,
   "metadata": {},
   "outputs": [
    {
     "name": "stdout",
     "output_type": "stream",
     "text": [
      "x = 7\n"
     ]
    }
   ],
   "source": [
    "h = 13\n",
    "base_g = 2\n",
    "p = 23\n",
    "\n",
    "x = find_discrete_logarithms(base_g, h, p)\n",
    "print('x =', x)"
   ]
  },
  {
   "cell_type": "markdown",
   "metadata": {},
   "source": [
    "#### (b) $\\log_{10}{22}$ in $Z_{47}$"
   ]
  },
  {
   "cell_type": "code",
   "execution_count": 102,
   "metadata": {},
   "outputs": [
    {
     "name": "stdout",
     "output_type": "stream",
     "text": [
      "x = 11\n"
     ]
    }
   ],
   "source": [
    "base_g = 10\n",
    "h = 22\n",
    "p = 47\n",
    "\n",
    "x = find_discrete_logarithms(base_g, h, p)\n",
    "print('x =',x)"
   ]
  },
  {
   "cell_type": "markdown",
   "metadata": {},
   "source": [
    "#### (c) $\\log_{627}{608}$ in $Z_941$"
   ]
  },
  {
   "cell_type": "code",
   "execution_count": 103,
   "metadata": {},
   "outputs": [
    {
     "name": "stdout",
     "output_type": "stream",
     "text": [
      "x = 18\n"
     ]
    }
   ],
   "source": [
    "base_g = 627\n",
    "h = 608\n",
    "p = 941\n",
    "\n",
    "x = find_discrete_logarithms(base_g, h, p)\n",
    "print('x =',x)"
   ]
  },
  {
   "cell_type": "markdown",
   "metadata": {},
   "source": [
    "### 2.6"
   ]
  },
  {
   "cell_type": "code",
   "execution_count": 104,
   "metadata": {},
   "outputs": [
    {
     "name": "stdout",
     "output_type": "stream",
     "text": [
      "Bob nên gửi cho Alice số 805\n",
      "Giá trị shared_value là 397\n",
      "Số mũ bí mật của Alice là 587\n"
     ]
    }
   ],
   "source": [
    "p = 1373\n",
    "base_g = 2\n",
    "A = 974\n",
    "b = 871\n",
    "\n",
    "B = (base_g**b) % p\n",
    "shared_value = (A**b) % p\n",
    "\n",
    "print('Bob nên gửi cho Alice số',B)\n",
    "print('Giá trị shared_value là',shared_value)\n",
    "\n",
    "a = find_discrete_logarithms(B, shared_value, p)\n",
    "print('Số mũ bí mật của Alice là',a)\n",
    "\n"
   ]
  },
  {
   "cell_type": "markdown",
   "metadata": {},
   "source": [
    "### 2.8"
   ]
  },
  {
   "cell_type": "code",
   "execution_count": 105,
   "metadata": {},
   "outputs": [],
   "source": [
    "def gcd(a,b):\n",
    "    if b == 0:\n",
    "        return a\n",
    "    return gcd(b, a % b)\n",
    "\n",
    "def inverse_modulo(a, p):\n",
    "    for iv in range(2,p):\n",
    "        if (a * iv) % p == 1:\n",
    "            return iv\n",
    "        \n",
    "    return 'no inversal modular found'\n",
    "\n",
    "p = 1373\n",
    "base_g = 2"
   ]
  },
  {
   "cell_type": "markdown",
   "metadata": {},
   "source": [
    "#### (a)"
   ]
  },
  {
   "cell_type": "code",
   "execution_count": 106,
   "metadata": {},
   "outputs": [
    {
     "name": "stdout",
     "output_type": "stream",
     "text": [
      "Public key A của Alice là 177\n"
     ]
    }
   ],
   "source": [
    "a = 947\n",
    "A =(base_g**a) % p\n",
    "print('Public key A của Alice là',A)"
   ]
  },
  {
   "cell_type": "markdown",
   "metadata": {},
   "source": [
    "#### (b)"
   ]
  },
  {
   "cell_type": "code",
   "execution_count": 107,
   "metadata": {},
   "outputs": [
    {
     "name": "stdout",
     "output_type": "stream",
     "text": [
      "cipher text Bob gửi cho Alice là (719, 623)\n"
     ]
    }
   ],
   "source": [
    "b = 716\n",
    "B = base_g**b % p\n",
    "\n",
    "m = 583\n",
    "k = 877\n",
    "\n",
    "c_1 = (base_g**k) % p\n",
    "c_2 = (m*(B**k)) % p\n",
    "\n",
    "print('cipher text Bob gửi cho Alice là',(c_1,c_2))"
   ]
  },
  {
   "cell_type": "code",
   "execution_count": 108,
   "metadata": {},
   "outputs": [
    {
     "name": "stdout",
     "output_type": "stream",
     "text": [
      "Plaintext: 332\n"
     ]
    }
   ],
   "source": [
    "a = 299\n",
    "A = base_g**a % p\n",
    "\n",
    "(c_1,c_2) = (661, 1325)\n",
    "\n",
    "x = c_1**a % p\n",
    "\n",
    "inverse_x = inverse_modulo(x, p)\n",
    "\n",
    "m = (inverse_x * c_2) % p\n",
    "\n",
    "print('Plaintext:',m)"
   ]
  },
  {
   "cell_type": "markdown",
   "metadata": {},
   "source": [
    "#### (d)"
   ]
  },
  {
   "cell_type": "code",
   "execution_count": 109,
   "metadata": {},
   "outputs": [
    {
     "name": "stdout",
     "output_type": "stream",
     "text": [
      "Plaintext: 365\n"
     ]
    }
   ],
   "source": [
    "B = 893\n",
    "(c_1, c_2) = (693, 793)\n",
    "\n",
    "b = find_discrete_logarithms(base_g, B, p)\n",
    "\n",
    "x = c_1**b % p\n",
    "inverse_x = inverse_modulo(x, p)\n",
    "\n",
    "m = (inverse_x * c_2) % p\n",
    "print('Plaintext:',m)\n",
    "\n"
   ]
  },
  {
   "cell_type": "markdown",
   "metadata": {},
   "source": [
    "### 2.12\n",
    "#### a,\n",
    "Ta có: $g.g^{-1} = 1$\n",
    "Mà $g ∈ G[d] \\Rightarrow g^{-1} ∈ G[d]$ (đpcm) \n",
    "\n",
    "#### b,\n",
    "Vì G có tính giao hoán.\n",
    "Theo giả thiết:\n",
    "$g_1, g_2 ∈ G[d] => g_1^d = e ;\\  g_2^d = e \\Rightarrow g_1 = g_2 = \\sqrt[d]{e} $\n",
    "$\\Rightarrow g_1.g_2 = g_2.g_1 = \\sqrt[d]{e^2} $\n",
    "\n",
    "Vậy $g1.g2 ∈ G[d]$  (đpcm)\n",
    "\n",
    "#### c,\n",
    "Vì G có tính giao hoán $\\Rightarrow \\exists a, b ∈ G$ sao cho $a.b = b.a$\n",
    "\n",
    "Ta xét $a^d.b^d  = (a.b)^d = (b.a)^d = g^d$ (Với g = a.b)\n",
    "\n",
    "Do đó $G[d]$ cũng có tính giao hoán\n",
    "\n",
    "=> $G[d]$ cũng là một nhóm "
   ]
  },
  {
   "cell_type": "markdown",
   "metadata": {},
   "source": [
    "### 2.15\n",
    "#### a,\n",
    "Giả sử có: \n",
    "$$ GL_2(F_p)  =  \\begin{pmatrix} \n",
    "a& b \\\\\n",
    "c&d \\end {pmatrix}\\      \\   \\ (1) \\\\\n",
    "trong \\ đó\\ a,b,c,d ∈ F_p,\\  ad-bc\\  \\#\\  0$$\n",
    "Dễ thấy với bất kỳ số a,b,c,d thì (1) luôn có tính kết hợp\n",
    "\n",
    "Xét một ma trận A bất kì thuộc GL_2(F_p) thì ta luôn có A^(-1) chính là ma trận khả nghịch của A \n",
    "=> A.A^(-1) = E \n",
    "Do đó (1) luôn có phần tử trung lập và A(-1) chính là phần tử đối xứng của A trong (1).\n",
    "Vậy GL_2(F_p) là một nhóm (đpcm)\n",
    "\n",
    "#### b,\n",
    "Giả sử có $$ e  =  \\begin{pmatrix} \n",
    "1& 0 \\\\\n",
    "0&1 \\end {pmatrix}$$ \n",
    "\n",
    "và $$ A  =  \\begin{pmatrix} \n",
    "a& b \\\\\n",
    "c&d \\end {pmatrix}\\      \\   \\ (1) \\\\\n",
    "trong \\ đó\\ a,b,c,d ∈ R,\\  ad-bc\\  \\#\\  0$$\n",
    "Ta tính ma trận khả nghịch của A:\n",
    "$$ A^{-1}  = \\begin{pmatrix} \n",
    "a& b \\\\\n",
    "c&d \\end {pmatrix}^{-1}  = \n",
    "\n",
    " \\begin{pmatrix} \n",
    "\\frac{d}{ad-bc}& \\frac{-b}{ad-bc} \\\\\n",
    "\\frac{-c}{ad-bc}&\\frac{a}{ad-bc} \\end {pmatrix}\\ \n",
    "$$\n",
    "\n",
    "Do đó GL_2(F_p) không phải là nhóm giao hoán với mọi số nguyên tố p\n",
    "\n",
    "#### d: $(p^2-1)(p^2-p) $\n",
    "Xét ma trận\n",
    "\n",
    "$$ M  =  \\begin{pmatrix} \n",
    "a& b \\\\\n",
    "c&d \\end {pmatrix}\\ \\\\\n",
    "trong \\ đó\\ a,b,c,d ∈ R,\\  ad-bc\\  \\#\\  0$$\n",
    "Nếu $a,b,c,d$ khác 0 thì ta có thể chọn a,b,c,d tuỳ ý ngoại trừ $a^(-1).b.c$\n",
    "$\\Rightarrow$ Có $(p-1)^3 . (p-2)$ ma trận theo cách chọn như trên.\n",
    "\n",
    "Nếu 1 trong 4 số $a,b,c,d = 0$. 3 số còn lại chọn bất kỳ (khác 0). \n",
    "=> Có $4.(p-1)^3$ ma trận.\n",
    "\n",
    "Nếu $ad = 0$ và $bc \\neq 0$ hoặc ngược lại\n",
    "=> Có $2.(p-1)^2$ ma trận.\n",
    "\n",
    "Vậy có tổng cộng\n",
    "$(p-1)^3 . (p-2) + 4.(p-1)^3 + 2.(p-1)^2\n",
    "=(p-1)^2.[(p-1)(p-2)+4(p-1)+2] \n",
    "=(p-1)^2.(p^2+p)\n",
    "=(p^2-1)(p^2-p)$\n",
    "\n",
    "#### e. $$ \\prod_{k=0}^{n-1} (p^n - p^k)$$"
   ]
  }
 ],
 "metadata": {
  "kernelspec": {
   "display_name": "Python 3.9.0 64-bit",
   "language": "python",
   "name": "python3"
  },
  "language_info": {
   "codemirror_mode": {
    "name": "ipython",
    "version": 3
   },
   "file_extension": ".py",
   "mimetype": "text/x-python",
   "name": "python",
   "nbconvert_exporter": "python",
   "pygments_lexer": "ipython3",
   "version": "3.9.0"
  },
  "orig_nbformat": 4,
  "vscode": {
   "interpreter": {
    "hash": "ff1200cc413885a26299d5081e03f20b97b392fc1baa637c4818e9e43d99bbec"
   }
  }
 },
 "nbformat": 4,
 "nbformat_minor": 2
}
