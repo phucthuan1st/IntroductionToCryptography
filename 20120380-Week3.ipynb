{
 "cells": [
  {
   "cell_type": "markdown",
   "metadata": {},
   "source": [
    "# Thông tin:\n",
    "- Họ tên: Nguyễn Phúc Thuần\n",
    "- MSSV: 20120380"
   ]
  },
  {
   "cell_type": "markdown",
   "metadata": {},
   "source": [
    "### 2.3\n",
    "#### (a)\n",
    "Theo đề bài ta có: $g^a \\equiv g^b \\equiv h$ (mod p)\n",
    "\n",
    "$\\Rightarrow \\dfrac{g^a}{g^b} \\equiv 1$ (mod p) $\\Rightarrow g^{a-b} \\equiv 1$ (mod p)\n",
    "\n",
    "$\\Rightarrow (p-1) | (g^{a-b})$\n",
    "\n",
    "Mà $g$ là một primitive root của $F_p$ nên $(p - 1)$ | $a - b$\n",
    "\n",
    "hay $a \\equiv b$ mod ($p - 1$)\n",
    "\n",
    "Điều này cho ta được: $(p-1)|\\log_g{h}$ với $h \\in F^*_p$ \n",
    "\n",
    "Từ đó ta có được sơ đồ 2.1 \n",
    "\n",
    "#### (b) \n",
    "Ta có: $g^{\\log_g{h_1} + \\log_g{h_2}} = g^{\\log_g{h_1}}.g^{\\log_g{h_2}} \\equiv h_1.h_2$ (mod $p$) $\\equiv g^{\\log_g{h_1h_2}}$ (mod $p$)\n",
    "\n",
    "$\\Rightarrow log_g{h_1} + log_g{h_2} \\equiv log_g(h_1.h_2)$ (mod $p$) và đồng thời $log_g{h_1} + log_g{h_2} = log_g(h_1.h_2)$ (mod $p$)\n",
    "#### (c)\n",
    "Ta có $g^{n.log_g(h)} = (g^{\\log_g(h)})^n \\equiv h^n \\equiv g^{\\log_g{h^n}}$ (mod $p$)\n",
    "\n",
    "$\\Rightarrow log_g{h^n} \\equiv n.log_g{h}$ (mod $p$)"
   ]
  },
  {
   "cell_type": "markdown",
   "metadata": {},
   "source": [
    "### 2.4"
   ]
  },
  {
   "cell_type": "markdown",
   "metadata": {},
   "source": [
    "find discrete logrithms function:"
   ]
  },
  {
   "cell_type": "code",
   "execution_count": 32,
   "metadata": {},
   "outputs": [],
   "source": [
    "def find_discrete_logarithms(base_g, h, p):\n",
    "    if h > p:\n",
    "        h = h % p\n",
    "    \n",
    "    x_i = 1\n",
    "    g_x = (base_g**x_i) % p\n",
    "    \n",
    "    while h != g_x:\n",
    "        x_i += 1\n",
    "        g_x = (base_g**x_i) % p\n",
    "    \n",
    "    x = x_i\n",
    "    return x"
   ]
  },
  {
   "cell_type": "markdown",
   "metadata": {},
   "source": [
    "#### (a) $\\log_2{13}$ in $Z_{23}$"
   ]
  },
  {
   "cell_type": "code",
   "execution_count": 33,
   "metadata": {},
   "outputs": [
    {
     "name": "stdout",
     "output_type": "stream",
     "text": [
      "x = 7\n"
     ]
    }
   ],
   "source": [
    "h = 13\n",
    "base_g = 2\n",
    "p = 23\n",
    "\n",
    "x = find_discrete_logarithms(base_g, h, p)\n",
    "print('x =', x)"
   ]
  },
  {
   "cell_type": "markdown",
   "metadata": {},
   "source": [
    "#### (b) $\\log_{10}{22}$ in $Z_{47}$"
   ]
  },
  {
   "cell_type": "code",
   "execution_count": 34,
   "metadata": {},
   "outputs": [
    {
     "name": "stdout",
     "output_type": "stream",
     "text": [
      "x = 11\n"
     ]
    }
   ],
   "source": [
    "base_g = 10\n",
    "h = 22\n",
    "p = 47\n",
    "\n",
    "x = find_discrete_logarithms(base_g, h, p)\n",
    "print('x =',x)"
   ]
  },
  {
   "cell_type": "markdown",
   "metadata": {},
   "source": [
    "#### (c) $\\log_{627}{608}$ in $Z_941$"
   ]
  },
  {
   "cell_type": "code",
   "execution_count": 35,
   "metadata": {},
   "outputs": [
    {
     "name": "stdout",
     "output_type": "stream",
     "text": [
      "x = 18\n"
     ]
    }
   ],
   "source": [
    "base_g = 627\n",
    "h = 608\n",
    "p = 941\n",
    "\n",
    "x = find_discrete_logarithms(base_g, h, p)\n",
    "print('x =',x)"
   ]
  }
 ],
 "metadata": {
  "kernelspec": {
   "display_name": "Python 3.9.0 64-bit",
   "language": "python",
   "name": "python3"
  },
  "language_info": {
   "codemirror_mode": {
    "name": "ipython",
    "version": 3
   },
   "file_extension": ".py",
   "mimetype": "text/x-python",
   "name": "python",
   "nbconvert_exporter": "python",
   "pygments_lexer": "ipython3",
   "version": "3.9.0"
  },
  "orig_nbformat": 4,
  "vscode": {
   "interpreter": {
    "hash": "ff1200cc413885a26299d5081e03f20b97b392fc1baa637c4818e9e43d99bbec"
   }
  }
 },
 "nbformat": 4,
 "nbformat_minor": 2
}
