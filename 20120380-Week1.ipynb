{
 "cells": [
  {
   "cell_type": "markdown",
   "metadata": {},
   "source": [
    "MSSV: 20120380\n",
    "\n",
    "Họ tên: Nguyễn Phúc Thuần\n",
    "# 1.3\n",
    "### a."
   ]
  },
  {
   "cell_type": "code",
   "execution_count": 2,
   "metadata": {},
   "outputs": [
    {
     "name": "stdout",
     "output_type": "stream",
     "text": [
      "Encryption message: IBX FEPA QL BQAAXW QW IBX FSVAXW.\n"
     ]
    }
   ],
   "source": [
    "plain_text = \"The gold is hidden in the garden.\"\n",
    "\n",
    "substition_table = {\"a\":\"S\", \"b\":\"C\", \"c\":\"J\", \"d\":\"A\", \"e\":\"X\", \"f\":\"U\",\n",
    "                    \"g\":\"F\", \"h\":\"B\", \"i\":\"Q\", \"j\":\"K\", \"k\":\"T\", \"l\":\"P\",\n",
    "                    \"m\":\"R\", \"n\":\"W\", \"o\":\"E\", \"p\":\"Z\", \"q\":\"H\", \"r\":\"V\",\n",
    "                    \"s\":\"L\", \"t\":\"I\", \"u\":\"G\", \"v\":\"Y\", \"w\":\"D\", \"x\":\"N\", \"y\":\"M\", \"z\":\"O\"}\n",
    "\n",
    "message = plain_text.lower()\n",
    "\n",
    "cipher_text = \"\"\n",
    "\n",
    "for k_pub in message:\n",
    "    if k_pub in substition_table:\n",
    "        k_pub = substition_table[k_pub]\n",
    "        \n",
    "    cipher_text += k_pub\n",
    "    \n",
    "print(\"Encryption message: \" + cipher_text)\n",
    "    \n",
    "\n"
   ]
  },
  {
   "cell_type": "markdown",
   "metadata": {},
   "source": [
    "### b,c: \n",
    "using substition table as above (a.), then decryption table are the reverse of it."
   ]
  },
  {
   "cell_type": "code",
   "execution_count": 3,
   "metadata": {},
   "outputs": [
    {
     "name": "stdout",
     "output_type": "stream",
     "text": [
      "Decryption message: these cretp asswo rdiss wordf ish\n"
     ]
    }
   ],
   "source": [
    "decryption_table = dict(sorted([(k_priv, k_pub) for (k_pub, k_priv) in substition_table.items()]))\n",
    "\n",
    "cipher_text = 'IBXLX JVXIZ SLLDE VAQLL DEVAU QLB'\n",
    "\n",
    "plain_text = \"\"\n",
    "\n",
    "for k_priv in cipher_text:\n",
    "    if k_priv in decryption_table:\n",
    "        k_priv = decryption_table[k_priv]\n",
    "        \n",
    "    plain_text += k_priv\n",
    "\n",
    "print(\"Decryption message: \" + plain_text)"
   ]
  },
  {
   "cell_type": "markdown",
   "metadata": {},
   "source": [
    "the secret password is swordfish"
   ]
  },
  {
   "cell_type": "markdown",
   "metadata": {},
   "source": [
    "# 1.5: \n",
    "## a. S = 26! - 1\n",
    "- Kí tự đầu sẽ có 26 cách để thay thế bằng một kí tự khác (có thể là chính nó).\n",
    "- Mỗi lần thay thế 1 kí tự thì các kí tự còn lại sẽ có ít hơn 1 cách thay thế.\n",
    "- Do đó số bảng substition có thể có là 26! - 1 (trừ đi bảng mà tất cả 26 kí tự đều bị đổi với chính nó)\n",
    "## b. \n",
    "### i. S0 = 25!\n",
    "- Kí tự đầu sẽ có 25 cách để thay thế bằng một kí tự khác (tức trừ chính nó).\n",
    "- Mỗi lần thay thế 1 kí tự thì các kí tự còn lại sẽ có ít hơn 1 cách thay thế.\n",
    "- Do đó số bảng substition có thể có là 25!\n",
    "### ii. N1 = 26! - 25! - 1 = S - S0\n",
    "- Tổng số trường hợp trừ cho các trường hợp không có kí tự nào cố định\n",
    "### iii. S1 = 25! - 1\n",
    "- Xem như bảng chữ cái chỉ còn 25 kí tự\n",
    "- Kí tự đầu sẽ có 25 cách để thay thế bằng một kí tự khác (có thể là chính nó).\n",
    "- Mỗi lần thay thế 1 kí tự thì các kí tự còn lại sẽ có ít hơn 1 cách thay thế.\n",
    "- Do đó số bảng substition có thể có là 25! - 1 (trừ đi bảng mà tất cả kí tự đều bị đổi với chính nó).\n",
    "### iv. N2 = 26! 2x25! - 2 = S - S0 - S1\n",
    "- Tổng số trường hợp trừ cho trường hợp không có kí tự nào cố định và có đúng 1 kí tự cố định."
   ]
  },
  {
   "cell_type": "markdown",
   "metadata": {},
   "source": [
    "# 1.6\n",
    "### (a).\n",
    "Ta có:\n",
    "- a | b => b = k.a (k thuộc Z)\n",
    "- b | c => c = k'.b (k' thuộc Z)\n",
    "=> c = k.k'.a <=> c = K.a (với K = k.k')\n",
    "=> a | c (đpcm)\n",
    "\n",
    "### (b)\n",
    "Ta có:\n",
    "- a | b => b = k.a (k thuộc Z)\n",
    "- b | a => a = k'.b (k' thuộc Z) (*)\n",
    "\n",
    "=> b = k.k'.b => k.k' = 1\n",
    "mà k,k' thuộc Z \n",
    "=> k = k' = 1 hoặc k = k' = -1 (**)\n",
    "\n",
    "=> thế (**) vào (*) => a = b hoặc a = -b (đpcm)\n",
    "\n",
    "### (c)\n",
    "Ta có:\n",
    "- a | b => b = k.a (k thuộc Z)\n",
    "- a | c => c = k'.a (k' thuộc Z)\n",
    "\n",
    "Ta lại có:\n",
    "- b + c = (k + k').a = k1.a (với k1 = k + k')\n",
    "\n",
    "=> a | (b + c)\n",
    "- b - c = (k - k').a = k2.a (với k2 = k - k')\n",
    "\n",
    "=> a | (b - c)\n",
    "\n",
    "Do đó ta có đpcm.\n",
    "\n"
   ]
  },
  {
   "cell_type": "markdown",
   "metadata": {},
   "source": [
    "# 1.11\n",
    "### (a)\n",
    "Đặt g = gcd(a,b) \n",
    "\n",
    "(g > 0)\n",
    "\n",
    "=> a = k.g, b = k'.g (k,k' thuộc Z)\n",
    "\n",
    "Suy ra:\n",
    "\n",
    "1 = a.u + bv \n",
    "\n",
    "  = k.g.u + k'.g.v \n",
    "  \n",
    "  = (k.u + k'.v)g \n",
    "  \n",
    "  = K.g (với K = k.u + k'.v')\n",
    "\n",
    "=> g | 1 => g = 1\n",
    "\n",
    "### (b)\n",
    "\n",
    "g không nhất thiết phải bằng 6\n",
    "\n",
    "ví dụ: \n",
    "\n",
    "với a = 20, b = 14, u = 1, v = -1\n",
    "\n",
    "au + bv = 20.1 + 14.(-1) = 6\n",
    "\n",
    "nhưng gcd(a,b) = gcd(20,14) = 2 \n",
    "\n",
    "từ chứng minh ở (a), ta thấy:\n",
    "\n",
    "với au + bv = 6 => K.g = 6 => g | 6 => g = [1, 2, 3, 6]\n",
    "\n",
    "### (c)\n",
    "vì au + bv = 1 => gcd(a,b) = g = 1 (*) (đã cm ở câu a)\n",
    "\n",
    "Ta có:\n",
    "- với (u,v) = (u1, v1): a.u1 + b.v1 = 1\n",
    "- với (u,v) = (u2, v2): a.u2 + b.v2 = 1\n",
    "\n",
    "=> a.u1 - a.u2 + b.v1 - b.v2 = 0\n",
    "\n",
    "=> (u1 - u2).a + (v1 - v2).b = 0\n",
    "\n",
    "=> a | [(u1 - u2).a + (v1 - v2).b] (mọi số là ước của 0)\n",
    "\n",
    "=> a | (v1 - v2).b (vì a | (u1 - u2).a nên buộc nó cũng phải là ước của số hạng còn lại)\n",
    "\n",
    "mà gcd(a,b) = 1 => a | (v1 - v2) hay a | (v2 - v1)\n",
    "\n",
    "tương tự ta có:\n",
    "\n",
    "b | [(v1 - v2).a + (v1 - v2).b]\n",
    "\n",
    "=> b | (u1 - u2).a\n",
    "\n",
    "mà gcd(a,b) = 1 => b | (u1 - u2) hay b | (u2 - u1)\n",
    "\n",
    "Do đó ta có đpcm\n",
    "\n",
    "### (d) \n",
    "Đặt g = gcd(a,b)\n",
    "\n",
    "gọi (u0, v0) là 1 nghiệm của phương trình au + bv = g \n",
    "\n",
    "ta có hệ:\n",
    "au + bv = g\n",
    "a.u0 + b.v0 = g \n",
    "\n",
    "vì au + bv = g => (a/g).u + (b/g).v = 1 => gcd(a/g, b/g) = 1 (đã cm ở (a))\n",
    "\n",
    "từ chứng minh ở (c), với k thuộc Z, suy ra:\n",
    "\n",
    "- a/g | (v0 - v) => v0 - v = k.a/g => v = v - k.a/g (1)\n",
    "- b/g | (u - u0) => u - u0 = k.b/g => u = u0 + k.b/g (2)\n",
    "\n",
    "(1)(2) ta có đpcm\n",
    "\n",
    "\n",
    "\n",
    "\n",
    "\n",
    "\n",
    "\n",
    "\n",
    "\n",
    "\n",
    "\n",
    "\n",
    "\n",
    "\n",
    "\n"
   ]
  },
  {
   "cell_type": "markdown",
   "metadata": {},
   "source": [
    "# 1.12\n",
    "\n",
    "### (a)\n",
    "Đây thực ra là thuật chia Euclid để tính gcd = ri và cặp số (u,v)\n",
    "\n",
    "### (b) (c)"
   ]
  },
  {
   "cell_type": "code",
   "execution_count": 4,
   "metadata": {},
   "outputs": [
    {
     "name": "stdout",
     "output_type": "stream",
     "text": [
      "(17, -31, 13.0)\n",
      "(12, -37, 8.0)\n",
      "(7, 4517, -4430.0)\n",
      "(1, 59789, -970295.0)\n"
     ]
    }
   ],
   "source": [
    "def gcd(a,b):\n",
    "    \n",
    "    u = 1; g = a; y = b; x = 0\n",
    "    \n",
    "    while True:\n",
    "        if y == 0:\n",
    "            v = (g - a*u)/b \n",
    "            return (g,u,v)\n",
    "        \n",
    "        q = (int)(g / y); t = g % y; g = q\n",
    "        s = u - q*x\n",
    "        u = x; g = y\n",
    "        x = s; y = t\n",
    "        \n",
    "    \n",
    "print(gcd(527,1258))\n",
    "print(gcd(228,1056))\n",
    "print(gcd(163961,167181))\n",
    "print(gcd(3892394,239847))"
   ]
  },
  {
   "cell_type": "markdown",
   "metadata": {},
   "source": [
    "### (d)\n",
    "Khi b = 0, chương trình sẽ crash (vì không thể tính được v = (g - a*u)/b). Ta sẽ ràng buộc thêm điều kiện khi b == 0:"
   ]
  },
  {
   "cell_type": "code",
   "execution_count": 5,
   "metadata": {},
   "outputs": [
    {
     "name": "stdout",
     "output_type": "stream",
     "text": [
      "(17, -31, 13.0)\n",
      "(12, -37, 8.0)\n",
      "(7, 4517, -4430.0)\n",
      "(1, 59789, -970295.0)\n",
      "(8, 1, 0)\n",
      "('undefined', 0, 0)\n"
     ]
    }
   ],
   "source": [
    "def gcd_fixed(a,b):\n",
    "    if a == 0 and b == 0:\n",
    "        return (\"undefined\",0,0)\n",
    "    \n",
    "    if b == 0:\n",
    "        return (a, 1, 0)\n",
    "    \n",
    "    u = 1; g = a; y = b; x = 0\n",
    "    \n",
    "    while True:\n",
    "        if y == 0:\n",
    "            v = (g - a*u)/b \n",
    "            return (g,u,v)\n",
    "        \n",
    "        q = (int)(g / y); t = g % y; g = q\n",
    "        s = u - q*x\n",
    "        u = x; g = y\n",
    "        x = s; y = t\n",
    "        \n",
    "print(gcd_fixed(527,1258))\n",
    "print(gcd_fixed(228,1056))\n",
    "print(gcd_fixed(163961,167181))\n",
    "print(gcd_fixed(3892394,239847))\n",
    "print(gcd_fixed(8,0))\n",
    "print(gcd_fixed(0,0))"
   ]
  },
  {
   "cell_type": "markdown",
   "metadata": {},
   "source": [
    "### (e)"
   ]
  },
  {
   "cell_type": "code",
   "execution_count": 6,
   "metadata": {},
   "outputs": [
    {
     "name": "stdout",
     "output_type": "stream",
     "text": [
      "(17, 43.0, -18.0)\n",
      "(12, 51.0, -11.0)\n",
      "(7, 4517, -4430.0)\n",
      "(1, 59789, -970295.0)\n"
     ]
    }
   ],
   "source": [
    "def gcd_modified(a,b):\n",
    "    if a == 0 and b == 0:\n",
    "        return (\"undefined\",0,0)\n",
    "    \n",
    "    if b == 0:\n",
    "        return (a, 0, 0)\n",
    "    \n",
    "    u = 1; g = a; y = b; x = 0\n",
    "    \n",
    "    while True:\n",
    "        if y == 0:\n",
    "            v = (g - a*u)/b \n",
    "            \n",
    "            while u < 0:\n",
    "                u = u + b/g\n",
    "                v = v - a/g\n",
    "            \n",
    "            return (g,u,v)\n",
    "        \n",
    "        q = (int)(g / y); t = g % y; g = q\n",
    "        s = u - q*x\n",
    "        u = x; g = y\n",
    "        x = s; y = t\n",
    "        \n",
    "print(gcd_modified(527,1258))\n",
    "print(gcd_modified(228,1056))\n",
    "print(gcd_modified(163961,167181))\n",
    "print(gcd_modified(3892394,239847))"
   ]
  },
  {
   "cell_type": "markdown",
   "metadata": {},
   "source": [
    "# 1.14\n",
    "\n",
    "Ta có \n",
    "- a1 ≡ a2 (mod m) => (a2 - a1) = k.m\n",
    "- b1 ≡ b2 (mod m) => (b2 - b1) = k'.m\n",
    "\n",
    "cộng 2 vế: (a2 - a1) + (b2 - b1) = (k + k')m\n",
    "\n",
    "=> (a2 + b2) - (a1 + b1) = (k + k')m\n",
    "\n",
    "=> (a1 + b1) ≡ (a2 + b2) (mod m) (theo đúng định nghĩa đồng dư)\n",
    "\n",
    "Tương tự khi trừ 2 vế ta được: (a2 - b2) - (a1 - b1) = (k - k')m \n",
    "\n",
    "=> (a2 - b2) ≡ (a1 - b1) (mod m)\n",
    "\n",
    "Ta có \n",
    "- a2 - a1 = k.m => a2 = a1 + k.m\n",
    "- b2 - b1 = k'.m => b2 = b1 + k'.m\n",
    "\n",
    "Suy ra \n",
    "\n",
    "a2.b2 = (a1 + k.m)(b1 + k'.m) \n",
    "\n",
    "= a1.b1 + a1.k'.m + b1.k.m + k.k'.m.m\n",
    "\n",
    "= a2.b2 - a1.b1 = (a1.k' + b1.k + k.k').m\n",
    "\n",
    "=> a2.b2 ≡ a1.b1 (mod m)\n",
    "\n",
    "\n"
   ]
  },
  {
   "cell_type": "markdown",
   "metadata": {},
   "source": [
    "# 1.18\n",
    "ta có gcd(a,b) = au + bv\n",
    "\n",
    "nên \n",
    "\n",
    "g^gcd(a,b) ≡ g^(au + bv) (mod m)\n",
    "\n",
    "≡ (g^a)^u.(g^b)^v (mod m)\n",
    "\n",
    "≡ (1^u).(1^v) (mod m)\n",
    "\n",
    "≡ 1 (mod m)\n",
    "\n",
    "\n",
    "\n"
   ]
  },
  {
   "cell_type": "markdown",
   "metadata": {},
   "source": [
    "# 1.20\n",
    "Ta có: phi(m) = m - 1 <=> m nguyên tố cùng nhau với các số 1,2...,m - 1\n",
    "-> m có đúng 2 ước là 1 và m -> m là số nguyên tố"
   ]
  },
  {
   "cell_type": "markdown",
   "metadata": {},
   "source": [
    "# 1.21\n",
    "### (a)\n",
    "Vì m lẻ nên (m + 1)/2 thuộc z (1)\n",
    "\n",
    "gọi x là số cần tìm, ta có x ≡ 2^-1 (mod m)\n",
    "\n",
    "=> 2x ≡ 1 (mod m) (2)\n",
    "\n",
    "thế x = (m + 1)/2 => 2.(m+1)/2 ≡ 1 (mod m)\n",
    "\n",
    "=> m + 1 ≡ 1 (mod m) \n",
    "\n",
    "Vậy (m + 1)/2 là số ta cần tìm\n",
    "\n",
    "### (b) \n",
    "vì m ≡ 1 (mod b) => (m - 1)/b = k (k thuộc Z)\n",
    "\n",
    "do đó \n",
    "<i>\n",
    "b.(m - 1)/b = m - 1 ≡ -1 (mod m)\n",
    "\n",
    "<=> b.(1 - m)/b = 1 - m ≡ 1 (mod m)\n",
    "\n",
    "<=> b.(1 - m)/b + m ≡ 1 (mod m)\n",
    "\n",
    "<=> b.(1 - m + mb)/b ≡ 1 (mod m)\n",
    "\n",
    "<=> 1 + m(b - 1) ≡ 1 (mod m)\n",
    "</i>\n",
    "\n",
    "vậy số nguyên cần tìm là <b>1 + m(b-1)</b>"
   ]
  },
  {
   "cell_type": "markdown",
   "metadata": {},
   "source": [
    "# 1.23\n",
    "### (a)\n",
    "- x ≡ 3 (mod 7) => x = 7.k1 + 3\n",
    "- x ≡ 4 (mod 9) => x = 9.k2 + 4\n",
    "\n",
    "=> 7.k1 + 3 = 9.k2 + 4\n",
    "\n",
    "=> 7.k1 - 9.k2 = 1\n",
    "\n",
    "Bằng thuật chia Euclid, ta tìm được 1 cặp (k1, k2) = (4,3) thỏa \n",
    "\n",
    "=> x = 7.4 + 3 + 7.9.k = 31 + 63.k (k thuộc Z)\n",
    "\n",
    "với k = 1 ta được x = 31 thỏa ycbt\n",
    "\n",
    "### (b)\n",
    "- x ≡ 13 (mod 71) => x = 71.k1 + 13 (*)\n",
    "- x ≡ 41 (mod 97) => x = 97.k2 + 41\n",
    "\n",
    "=> 71.k1 + 13 = 97.k2 + 41\n",
    "\n",
    "=> 71.k1 - 97.k2 = 28 và gcd(71, 97) = 1\n",
    "\n",
    "Bằng thuật chia Euclid, ta tính được: 41.71 - 30.97 = 1 \n",
    "\n",
    "=> (28.41).71 - (28.30).97 = 28\n",
    "\n",
    "do đó (k1, k2) = (1148, -840). Thế k1 = 1148 vào (*)\n",
    "\n",
    "=> x = 81521 + (71.97).k = 81521 +  (k thuộc Z)\n",
    "\n",
    "với k = -10, x = 12651 thỏa ycbt\n",
    "\n"
   ]
  }
 ],
 "metadata": {
  "kernelspec": {
   "display_name": "Python 3.9.0 64-bit",
   "language": "python",
   "name": "python3"
  },
  "language_info": {
   "codemirror_mode": {
    "name": "ipython",
    "version": 3
   },
   "file_extension": ".py",
   "mimetype": "text/x-python",
   "name": "python",
   "nbconvert_exporter": "python",
   "pygments_lexer": "ipython3",
   "version": "3.9.0"
  },
  "orig_nbformat": 4,
  "vscode": {
   "interpreter": {
    "hash": "ff1200cc413885a26299d5081e03f20b97b392fc1baa637c4818e9e43d99bbec"
   }
  }
 },
 "nbformat": 4,
 "nbformat_minor": 2
}
