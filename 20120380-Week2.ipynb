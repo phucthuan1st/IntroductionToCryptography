{
 "cells": [
  {
   "cell_type": "markdown",
   "metadata": {},
   "source": [
    "# Thông tin: \n",
    "- Họ tên: Nguyễn Phúc Thuần\n",
    "- MSSV: 20120380\n"
   ]
  },
  {
   "cell_type": "markdown",
   "metadata": {},
   "source": [
    "### 1.26\n",
    "Gọi $p_0$ là số nguyên tố thỏa $p_0|\\N$. \n",
    "\n",
    "Theo đề bài ta có $\\N = p_1p_2p_3...p_r + 1 \\Rightarrow \\N - p_1p_2p_3...p_r = 1$\n",
    "\n",
    "Giả sử $p_0 = p_i$ nào đó với $1 \\leq i \\leq r$ \n",
    "\n",
    "$\\Rightarrow p_0|(N - p_1p_2...p_r)$\n",
    "\n",
    "$\\Rightarrow p_0|1$ (vô lí vì $p_0$ là số nguyên tố)\n",
    "\n",
    "Do đó $p_0$ là số nguyên tố không thuộc tập số nguyên tố ban đầu. \n",
    "\n",
    "Từ đó ta thấy: $\\exist p_0 \\notin P = \\{p_1,p_2,p_3,...,p_r\\}$ ban đầu, hay số các số nguyên tố là vô hạn."
   ]
  },
  {
   "cell_type": "markdown",
   "metadata": {},
   "source": [
    "### 1.29\n",
    "#### (a)\n",
    "Theo định nghĩa: $ord_p(x) = k$ sao cho $p^k.M = x$ với $p \\nmid M$\n",
    "\n",
    "Nên $a = p^{ord_p(a)}.A$ và $b = p^{ord_p(b)}.B$ với $p \\nmid AB$\n",
    "\n",
    "Suy ra $ab = p^{ord_p(a)}.A.p^{ord_p(b)}.B = p^{ord_p(a) + ord_p(b)}.AB$\n",
    "\n",
    "$\\Rightarrow ord_p(ab) = ord_p(a) + ord_p(b)$\n",
    "\n",
    "#### (b)\n",
    "Giả sử $ord_p(b) > ord_p(a)$. Từ câu (a) ta có: \n",
    "\n",
    "$a + b = p^{ord_p(a)}.A + p^{ord_p(b)}.B$\n",
    "$= p^{ord_p(a)}.(A + B.\\dfrac{p^{ord_p(b)}}{p^{ord_p(a)}})$\n",
    "\n",
    "$= p^{ord_p(a)}.(A + B.p^{ord_p(b) - {ord_p(a)}})$ (*)\n",
    "\n",
    "$\\Rightarrow p^{ord_p(a)} \\mid (a+b)$. Mà $p^{ord_p(a)} \\leq a \\Rightarrow p^{ord_p(a)} < a + b$\n",
    "\n",
    "$\\Rightarrow ord_p(a) \\leq ord_p(a+b)$\n",
    "\n",
    "$\\Rightarrow ord_p(a+b) \\geq \\min(ord_p(a),ord_p(b))$\n",
    "\n",
    "#### (c)\n",
    "Từ (*) ở câu (b) ta có: \n",
    "\n",
    "$a + b = p^{ord_p(a)}.(A + B.p^{ord_p(b) - {ord_p(a)}})$\n",
    "\n",
    "Mà $p \\nmid (A + B.p^{ord_p(b) - ord_p(a)})$ (vì $p\\nmid A$)\n",
    "\n",
    "$\\Rightarrow ord_p(a + b) = ord_p(a)$ (theo đúng định nghĩa hàm $ord_p$)\n"
   ]
  },
  {
   "cell_type": "markdown",
   "metadata": {},
   "source": [
    "### 1.32\n",
    "#### (a) \n",
    "- i. Không \n",
    "- ii. Có \n",
    "- iii. Có \n",
    "- iv. Không\n",
    "\n",
    "#### (b)\n",
    "- i. Có\n",
    "- ii. Có \n",
    "- iii. Không\n",
    "- iv. Có\n",
    "\n",
    "#### (c)\n",
    "- i. p = 23, g = 5. \n",
    "- ii. p = 29, g = 2. \n",
    "- iii. p = 41, g = 6. \n",
    "- iv. p = 43, g = 3\n",
    "\n",
    "#### (d) \n",
    "Các primitive roots của mod 11 là $\\{2,6,7,8\\}$. \n",
    "\n",
    "Có $\\phi(10) = 4$ primitive root.\n",
    "\n",
    "#### (e) "
   ]
  },
  {
   "cell_type": "code",
   "execution_count": 74,
   "metadata": {},
   "outputs": [
    {
     "name": "stdout",
     "output_type": "stream",
     "text": [
      "[6, 7, 10, 23, 24, 28, 29, 31, 35, 38, 39, 40, 41, 47, 50, 59, 63, 65, 66, 67, 69, 72, 73, 74, 77, 79, 87, 90, 92, 96, 98, 102, 105, 110, 112, 113, 116, 117, 119, 124, 127, 131, 133, 137, 139, 142, 150, 152, 155, 156, 157, 160, 162, 163, 164, 166, 170, 179, 182, 188, 189, 190, 191, 194, 198, 200, 201, 205, 206, 219, 222, 223]\n",
      "There are 72 primitive roots\n"
     ]
    }
   ],
   "source": [
    "def isPrimitiveRoot(p: int, m: int):\n",
    "    ex = 0\n",
    "    elements = [1]\n",
    "    \n",
    "    while True:\n",
    "        ex += 1\n",
    "        element = (p**ex) % m\n",
    "        \n",
    "        if element in elements or element == 0:\n",
    "            return False\n",
    "        \n",
    "        if element not in elements: \n",
    "            elements.append(element)\n",
    "            \n",
    "        if len(elements) == m-1:\n",
    "            return True\n",
    "        \n",
    "m = 229\n",
    "\n",
    "primitive_roots = []\n",
    "\n",
    "for i in range(2, m):\n",
    "    if isPrimitiveRoot(i,m):\n",
    "        primitive_roots.append(i)\n",
    "        \n",
    "print(primitive_roots)\n",
    "print(\"There are \" + str(len(primitive_roots)) + \" primitive roots\")"
   ]
  },
  {
   "cell_type": "markdown",
   "metadata": {},
   "source": [
    "#### (f)"
   ]
  },
  {
   "cell_type": "code",
   "execution_count": 75,
   "metadata": {},
   "outputs": [
    {
     "name": "stdout",
     "output_type": "stream",
     "text": [
      "[3, 5, 11, 13, 19, 29, 37, 53, 59, 61, 67, 83]\n"
     ]
    }
   ],
   "source": [
    "prime_list = []\n",
    "\n",
    "for i in range(2, 100):\n",
    "    if isPrimitiveRoot(2,i):\n",
    "        prime_list.append(i)\n",
    "        \n",
    "print(prime_list)"
   ]
  },
  {
   "cell_type": "markdown",
   "metadata": {},
   "source": [
    "#### (g)"
   ]
  },
  {
   "cell_type": "code",
   "execution_count": 76,
   "metadata": {},
   "outputs": [
    {
     "name": "stdout",
     "output_type": "stream",
     "text": [
      "[5, 7, 17, 19, 29, 31, 43, 53, 79, 89]\n"
     ]
    }
   ],
   "source": [
    "prime_list = []\n",
    "\n",
    "for i in range(3, 100):\n",
    "    if isPrimitiveRoot(3,i):\n",
    "        prime_list.append(i)\n",
    "        \n",
    "print(prime_list)"
   ]
  },
  {
   "cell_type": "code",
   "execution_count": 77,
   "metadata": {},
   "outputs": [
    {
     "name": "stdout",
     "output_type": "stream",
     "text": [
      "[]\n"
     ]
    }
   ],
   "source": [
    "prime_list = []\n",
    "\n",
    "for i in range(4, 100):\n",
    "    if isPrimitiveRoot(4,i):\n",
    "        prime_list.append(i)\n",
    "        \n",
    "print(prime_list)"
   ]
  },
  {
   "cell_type": "markdown",
   "metadata": {},
   "source": [
    "### 1.34\n",
    "#### (a)\n",
    "Gọi $x_1, x_2$ lần lượt là 2 nghiệm thỏa $X^2 \\equiv b$ (mod $p$) với $p \\nmid b$\n",
    "\n",
    "$\\Rightarrow p | ({x_1}^2 - b)$ và $p | ({x_2}^2 - b)$\n",
    "\n",
    "$\\Rightarrow p | ({x_1}^2 - {x_2}^2)$\n",
    "\n",
    "$\\Rightarrow p | (x_1 - x_2)(x_1 + x_2) \\Rightarrow p|(x_1-x_2)$ hoặc $p|(x_1+x_2)$\n",
    "\n",
    "$\\Rightarrow x_1 \\equiv x_2$ mod $p$ hoặc $x_1 \\equiv -x_2$ mod $p$\n",
    "\n",
    "Do đó phương trình đồng dư ban đầu sẽ có 2 nghiệm $x_1, x_2$ với $x_1 \\equiv x_2$ mod $p$ hoặc $x_1 \\equiv -x_2$ mod $p$\n",
    "\n"
   ]
  },
  {
   "cell_type": "markdown",
   "metadata": {},
   "source": [
    "### 1.35"
   ]
  },
  {
   "cell_type": "markdown",
   "metadata": {},
   "source": [
    "### 1.38\n",
    "I f m u s i c b e t h e f o o d o f l o v e p l a y o n  "
   ]
  },
  {
   "cell_type": "markdown",
   "metadata": {},
   "source": [
    "### 1.42"
   ]
  },
  {
   "cell_type": "code",
   "execution_count": 110,
   "metadata": {},
   "outputs": [],
   "source": [
    "import numpy as np\n",
    "\n",
    "def squaren_matrix(matrix):\n",
    "    shape = matrix.shape\n",
    "    \n",
    "    zeros_column = np.ones((shape[0], 1), dtype = int)\n",
    "    zeros_row = np.ones(shape[1], dtype = int)\n",
    "    \n",
    "    if shape[0] == shape[1]:\n",
    "        return matrix\n",
    "    \n",
    "    if shape[0] > shape[1]:\n",
    "        \n",
    "        n = shape[0] - shape[1]\n",
    "        for i in range(n):\n",
    "            np.concatenate((matrix, zeros_column), axis = 1)\n",
    "          \n",
    "    if shape[1] > shape[0]:\n",
    "        n = shape[1] - shape[0]\n",
    "        for i in range(n):\n",
    "            np.concatenate((matrix, zeros_row), axis = 1)\n",
    "       \n",
    "    return matrix\n"
   ]
  },
  {
   "cell_type": "code",
   "execution_count": 91,
   "metadata": {},
   "outputs": [],
   "source": [
    "def encrypt_message(k1, k2, p, m):\n",
    "    k2 = squaren_matrix(k2)\n",
    "    m = squaren_matrix(m)\n",
    "    \n",
    "    e = np.linalg.det((k1 @ m + k2)) % p\n",
    "    return e\n",
    "\n",
    "def decrypt_cipher(k1, k2, p, c):\n",
    "    k2 = squaren_matrix(k2)\n",
    "    c = squaren_matrix(c)\n",
    "    \n",
    "    d = np.linalg.det(np.linalg.inv(k1) @ (c - k2)) % p\n",
    "    return d"
   ]
  },
  {
   "cell_type": "code",
   "execution_count": 111,
   "metadata": {},
   "outputs": [
    {
     "name": "stdout",
     "output_type": "stream",
     "text": [
      "[[5]\n",
      " [4]]\n",
      "[[2]\n",
      " [1]]\n"
     ]
    },
    {
     "ename": "LinAlgError",
     "evalue": "Last 2 dimensions of the array must be square",
     "output_type": "error",
     "traceback": [
      "\u001b[1;31m---------------------------------------------------------------------------\u001b[0m",
      "\u001b[1;31mLinAlgError\u001b[0m                               Traceback (most recent call last)",
      "\u001b[1;32m<ipython-input-111-53a9a895cf97>\u001b[0m in \u001b[0;36m<module>\u001b[1;34m\u001b[0m\n\u001b[0;32m      5\u001b[0m \u001b[0mm\u001b[0m \u001b[1;33m=\u001b[0m \u001b[0mnp\u001b[0m\u001b[1;33m.\u001b[0m\u001b[0marray\u001b[0m\u001b[1;33m(\u001b[0m\u001b[1;33m[\u001b[0m\u001b[1;33m[\u001b[0m\u001b[1;36m2\u001b[0m\u001b[1;33m]\u001b[0m\u001b[1;33m,\u001b[0m\u001b[1;33m[\u001b[0m\u001b[1;36m1\u001b[0m\u001b[1;33m]\u001b[0m\u001b[1;33m]\u001b[0m\u001b[1;33m)\u001b[0m\u001b[1;33m\u001b[0m\u001b[1;33m\u001b[0m\u001b[0m\n\u001b[0;32m      6\u001b[0m \u001b[1;33m\u001b[0m\u001b[0m\n\u001b[1;32m----> 7\u001b[1;33m \u001b[0mencrypt_mess\u001b[0m \u001b[1;33m=\u001b[0m \u001b[0mencrypt_message\u001b[0m\u001b[1;33m(\u001b[0m\u001b[0mk1\u001b[0m\u001b[1;33m,\u001b[0m \u001b[0mk2\u001b[0m\u001b[1;33m,\u001b[0m \u001b[0mp\u001b[0m\u001b[1;33m,\u001b[0m \u001b[0mm\u001b[0m\u001b[1;33m)\u001b[0m\u001b[1;33m\u001b[0m\u001b[1;33m\u001b[0m\u001b[0m\n\u001b[0m\u001b[0;32m      8\u001b[0m \u001b[1;31m# print(encrypt_mess)\u001b[0m\u001b[1;33m\u001b[0m\u001b[1;33m\u001b[0m\u001b[1;33m\u001b[0m\u001b[0m\n\u001b[0;32m      9\u001b[0m \u001b[1;33m\u001b[0m\u001b[0m\n",
      "\u001b[1;32m<ipython-input-91-83b7448f9c28>\u001b[0m in \u001b[0;36mencrypt_message\u001b[1;34m(k1, k2, p, m)\u001b[0m\n\u001b[0;32m      3\u001b[0m     \u001b[0mm\u001b[0m \u001b[1;33m=\u001b[0m \u001b[0msquaren_matrix\u001b[0m\u001b[1;33m(\u001b[0m\u001b[0mm\u001b[0m\u001b[1;33m)\u001b[0m\u001b[1;33m\u001b[0m\u001b[1;33m\u001b[0m\u001b[0m\n\u001b[0;32m      4\u001b[0m \u001b[1;33m\u001b[0m\u001b[0m\n\u001b[1;32m----> 5\u001b[1;33m     \u001b[0me\u001b[0m \u001b[1;33m=\u001b[0m \u001b[0mnp\u001b[0m\u001b[1;33m.\u001b[0m\u001b[0mlinalg\u001b[0m\u001b[1;33m.\u001b[0m\u001b[0mdet\u001b[0m\u001b[1;33m(\u001b[0m\u001b[1;33m(\u001b[0m\u001b[0mk1\u001b[0m \u001b[1;33m@\u001b[0m \u001b[0mm\u001b[0m \u001b[1;33m+\u001b[0m \u001b[0mk2\u001b[0m\u001b[1;33m)\u001b[0m\u001b[1;33m)\u001b[0m \u001b[1;33m%\u001b[0m \u001b[0mp\u001b[0m\u001b[1;33m\u001b[0m\u001b[1;33m\u001b[0m\u001b[0m\n\u001b[0m\u001b[0;32m      6\u001b[0m     \u001b[1;32mreturn\u001b[0m \u001b[0me\u001b[0m\u001b[1;33m\u001b[0m\u001b[1;33m\u001b[0m\u001b[0m\n\u001b[0;32m      7\u001b[0m \u001b[1;33m\u001b[0m\u001b[0m\n",
      "\u001b[1;32m<__array_function__ internals>\u001b[0m in \u001b[0;36mdet\u001b[1;34m(*args, **kwargs)\u001b[0m\n",
      "\u001b[1;32mc:\\Users\\phuct\\AppData\\Local\\Programs\\Python\\Python39\\lib\\site-packages\\numpy\\linalg\\linalg.py\u001b[0m in \u001b[0;36mdet\u001b[1;34m(a)\u001b[0m\n\u001b[0;32m   2154\u001b[0m     \u001b[0ma\u001b[0m \u001b[1;33m=\u001b[0m \u001b[0masarray\u001b[0m\u001b[1;33m(\u001b[0m\u001b[0ma\u001b[0m\u001b[1;33m)\u001b[0m\u001b[1;33m\u001b[0m\u001b[1;33m\u001b[0m\u001b[0m\n\u001b[0;32m   2155\u001b[0m     \u001b[0m_assert_stacked_2d\u001b[0m\u001b[1;33m(\u001b[0m\u001b[0ma\u001b[0m\u001b[1;33m)\u001b[0m\u001b[1;33m\u001b[0m\u001b[1;33m\u001b[0m\u001b[0m\n\u001b[1;32m-> 2156\u001b[1;33m     \u001b[0m_assert_stacked_square\u001b[0m\u001b[1;33m(\u001b[0m\u001b[0ma\u001b[0m\u001b[1;33m)\u001b[0m\u001b[1;33m\u001b[0m\u001b[1;33m\u001b[0m\u001b[0m\n\u001b[0m\u001b[0;32m   2157\u001b[0m     \u001b[0mt\u001b[0m\u001b[1;33m,\u001b[0m \u001b[0mresult_t\u001b[0m \u001b[1;33m=\u001b[0m \u001b[0m_commonType\u001b[0m\u001b[1;33m(\u001b[0m\u001b[0ma\u001b[0m\u001b[1;33m)\u001b[0m\u001b[1;33m\u001b[0m\u001b[1;33m\u001b[0m\u001b[0m\n\u001b[0;32m   2158\u001b[0m     \u001b[0msignature\u001b[0m \u001b[1;33m=\u001b[0m \u001b[1;34m'D->D'\u001b[0m \u001b[1;32mif\u001b[0m \u001b[0misComplexType\u001b[0m\u001b[1;33m(\u001b[0m\u001b[0mt\u001b[0m\u001b[1;33m)\u001b[0m \u001b[1;32melse\u001b[0m \u001b[1;34m'd->d'\u001b[0m\u001b[1;33m\u001b[0m\u001b[1;33m\u001b[0m\u001b[0m\n",
      "\u001b[1;32mc:\\Users\\phuct\\AppData\\Local\\Programs\\Python\\Python39\\lib\\site-packages\\numpy\\linalg\\linalg.py\u001b[0m in \u001b[0;36m_assert_stacked_square\u001b[1;34m(*arrays)\u001b[0m\n\u001b[0;32m    202\u001b[0m         \u001b[0mm\u001b[0m\u001b[1;33m,\u001b[0m \u001b[0mn\u001b[0m \u001b[1;33m=\u001b[0m \u001b[0ma\u001b[0m\u001b[1;33m.\u001b[0m\u001b[0mshape\u001b[0m\u001b[1;33m[\u001b[0m\u001b[1;33m-\u001b[0m\u001b[1;36m2\u001b[0m\u001b[1;33m:\u001b[0m\u001b[1;33m]\u001b[0m\u001b[1;33m\u001b[0m\u001b[1;33m\u001b[0m\u001b[0m\n\u001b[0;32m    203\u001b[0m         \u001b[1;32mif\u001b[0m \u001b[0mm\u001b[0m \u001b[1;33m!=\u001b[0m \u001b[0mn\u001b[0m\u001b[1;33m:\u001b[0m\u001b[1;33m\u001b[0m\u001b[1;33m\u001b[0m\u001b[0m\n\u001b[1;32m--> 204\u001b[1;33m             \u001b[1;32mraise\u001b[0m \u001b[0mLinAlgError\u001b[0m\u001b[1;33m(\u001b[0m\u001b[1;34m'Last 2 dimensions of the array must be square'\u001b[0m\u001b[1;33m)\u001b[0m\u001b[1;33m\u001b[0m\u001b[1;33m\u001b[0m\u001b[0m\n\u001b[0m\u001b[0;32m    205\u001b[0m \u001b[1;33m\u001b[0m\u001b[0m\n\u001b[0;32m    206\u001b[0m \u001b[1;32mdef\u001b[0m \u001b[0m_assert_finite\u001b[0m\u001b[1;33m(\u001b[0m\u001b[1;33m*\u001b[0m\u001b[0marrays\u001b[0m\u001b[1;33m)\u001b[0m\u001b[1;33m:\u001b[0m\u001b[1;33m\u001b[0m\u001b[1;33m\u001b[0m\u001b[0m\n",
      "\u001b[1;31mLinAlgError\u001b[0m: Last 2 dimensions of the array must be square"
     ]
    }
   ],
   "source": [
    "p = 1\n",
    "k1 = np.array([[1,3], [2,2]])\n",
    "k2 = np.array([[5],[4]])\n",
    "\n",
    "m = np.array([[2],[1]])\n",
    "\n",
    "encrypt_mess = encrypt_message(k1, k2, p, m)\n",
    "# print(encrypt_mess)\n",
    "\n",
    "\n"
   ]
  },
  {
   "cell_type": "markdown",
   "metadata": {},
   "source": [
    "### 1.45\n",
    "#### (a)\n",
    "Giả sử mỗi giây máy tính của Alice kiểm tra được 10 tỉ key\n",
    "\n",
    "Suy ra mỗi ngày máy tính của Alice kiểm tra được $10000000000 * 24 * 60 * 60$ khóa\n",
    "\n",
    "Suy ra để kiểm tra một nửa số khóa, Alice sẽ cần $\\dfrac{2^{55}}{10000000000 * 24 * 60 * 60} \\approx 41.69$ ngày\n",
    "#### (b)\n",
    "Mỗi năm, máy tính của Alice sẽ kiểm tra được $\\approx 10000000000 * 365.25 * 24 * 60 * 60$ khóa\n",
    "\n",
    "Suy ra trong 100 năm, máy tính kiểm tra được số khóa là $10000000000 * 100 * 365.25 * 24 * 60 * 60 \\approx 2^{65}$\n",
    "\n",
    "Theo đề bài, con số trên là một nửa số khóa $\\Rightarrow B = 66$ thỏa yêu cầu bài toán"
   ]
  },
  {
   "cell_type": "markdown",
   "metadata": {},
   "source": [
    "### 1.46\n",
    "Theo đề bài, với cipher:\n",
    "\n",
    "$e_k(m) = k \\oplus m$ và $d_k(c) = k \\oplus c$ \n",
    "\n",
    "$\\Rightarrow m \\oplus c = m \\oplus k \\oplus m = k$\n",
    "\n",
    "Do đó, khi biết m và c, ta có thể dễ dàng tìm ra k\n",
    "\n",
    "Ví dụ\n",
    "\n",
    "$k = c \\oplus m = 1010101010111 \\oplus 0010100100100 = 1000101110011$\n",
    "\n"
   ]
  },
  {
   "cell_type": "markdown",
   "metadata": {},
   "source": [
    "### 1.48\n",
    "Bằng máy tính, ta tính được $gcd(c_1, c_2) = 174385766$\n",
    "\n",
    "Do đó "
   ]
  }
 ],
 "metadata": {
  "kernelspec": {
   "display_name": "Python 3.9.0 64-bit",
   "language": "python",
   "name": "python3"
  },
  "language_info": {
   "codemirror_mode": {
    "name": "ipython",
    "version": 3
   },
   "file_extension": ".py",
   "mimetype": "text/x-python",
   "name": "python",
   "nbconvert_exporter": "python",
   "pygments_lexer": "ipython3",
   "version": "3.9.0"
  },
  "orig_nbformat": 4,
  "vscode": {
   "interpreter": {
    "hash": "ff1200cc413885a26299d5081e03f20b97b392fc1baa637c4818e9e43d99bbec"
   }
  }
 },
 "nbformat": 4,
 "nbformat_minor": 2
}
