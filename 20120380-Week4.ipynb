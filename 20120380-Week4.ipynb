{
 "cells": [
  {
   "cell_type": "markdown",
   "metadata": {},
   "source": [
    "## Thông tin\n",
    "- Họ tên: Nguyễn Phúc Thuần\n",
    "- MSSV: 20120380"
   ]
  },
  {
   "cell_type": "markdown",
   "metadata": {},
   "source": [
    "## 2.18"
   ]
  },
  {
   "cell_type": "code",
   "execution_count": 10,
   "metadata": {},
   "outputs": [],
   "source": [
    "def gcd(a: int, b: int) -> int:\n",
    "    if b == 0:\n",
    "        return a\n",
    "    \n",
    "    if a == b:\n",
    "        return b\n",
    "    \n",
    "    return gcd(b, a % b)"
   ]
  },
  {
   "cell_type": "code",
   "execution_count": 11,
   "metadata": {},
   "outputs": [],
   "source": [
    "def solve_simul_congruences(parameters): \n",
    "    m = 1\n",
    "    \n",
    "    for a,n in parameters:\n",
    "        g = gcd(m ,n)\n",
    "        m = int(m * n / g)\n",
    "    \n",
    "    for x in range(2, m):\n",
    "        is_solution = 1\n",
    "        \n",
    "        for a,n in parameters:\n",
    "            is_solution *= int(x % n == a)\n",
    "                \n",
    "        if is_solution:\n",
    "            return x\n",
    "        \n",
    "    return \"not found\""
   ]
  },
  {
   "cell_type": "markdown",
   "metadata": {},
   "source": [
    "### (a)\n",
    "$ x \\equiv 3 $ mod $7$ and $ x \\equiv 4$ mod $9$"
   ]
  },
  {
   "cell_type": "code",
   "execution_count": 12,
   "metadata": {},
   "outputs": [
    {
     "name": "stdout",
     "output_type": "stream",
     "text": [
      "solution for simul equation is x = 31\n"
     ]
    }
   ],
   "source": [
    "parameters = [(3, 7), (4, 9)]\n",
    "\n",
    "x = solve_simul_congruences(parameters)\n",
    "print(f'solution for simul equation is x = {x}')"
   ]
  },
  {
   "cell_type": "markdown",
   "metadata": {},
   "source": [
    "### (b)\n",
    "$ x \\equiv 137 $ mod $423$ and $ x \\equiv 87$ mod $191$"
   ]
  },
  {
   "cell_type": "code",
   "execution_count": 13,
   "metadata": {},
   "outputs": [
    {
     "name": "stdout",
     "output_type": "stream",
     "text": [
      "solution for simul equation is x = 27209\n"
     ]
    }
   ],
   "source": [
    "parameters = [(137, 423), (87, 191)]\n",
    "\n",
    "x = solve_simul_congruences(parameters)\n",
    "print(f'solution for simul equation is x = {x}')"
   ]
  },
  {
   "cell_type": "markdown",
   "metadata": {},
   "source": [
    "### (c)\n",
    "$ x \\equiv 133 $ mod $451$ and $ x \\equiv 237$ mod $697$"
   ]
  },
  {
   "cell_type": "code",
   "execution_count": 14,
   "metadata": {},
   "outputs": [
    {
     "name": "stdout",
     "output_type": "stream",
     "text": [
      "solution for simul equation is x = not found\n"
     ]
    }
   ],
   "source": [
    "parameters = [(133, 451), (237, 697)]\n",
    "\n",
    "x = solve_simul_congruences(parameters)\n",
    "print(f'solution for simul equation is x = {x}')"
   ]
  },
  {
   "cell_type": "markdown",
   "metadata": {},
   "source": [
    "### (d)\n",
    "$ x \\equiv 5 $ mod $9$ and $ x \\equiv 6$ mod $10$ and $x \\equiv 7$ mod $11$"
   ]
  },
  {
   "cell_type": "code",
   "execution_count": 15,
   "metadata": {},
   "outputs": [
    {
     "name": "stdout",
     "output_type": "stream",
     "text": [
      "solution for simul equation is x = 986\n"
     ]
    }
   ],
   "source": [
    "parameters = [(5, 9), (6, 10), (7,11)]\n",
    "\n",
    "x = solve_simul_congruences(parameters)\n",
    "print(f'solution for simul equation is x = {x}')"
   ]
  },
  {
   "cell_type": "markdown",
   "metadata": {},
   "source": [
    "### (e)\n",
    "$ x \\equiv 37 $ mod $43$ and $ x \\equiv 22$ mod $49$ and $x \\equiv 18$ mod $71$"
   ]
  },
  {
   "cell_type": "code",
   "execution_count": 16,
   "metadata": {},
   "outputs": [
    {
     "name": "stdout",
     "output_type": "stream",
     "text": [
      "solution for simul equation is x = 11733\n"
     ]
    }
   ],
   "source": [
    "parameters = [(37, 43), (22, 49), (18,71)]\n",
    "\n",
    "x = solve_simul_congruences(parameters)\n",
    "print(f'solution for simul equation is x = {x}')"
   ]
  },
  {
   "cell_type": "markdown",
   "metadata": {},
   "source": [
    "## 2.23"
   ]
  },
  {
   "cell_type": "code",
   "execution_count": 17,
   "metadata": {},
   "outputs": [],
   "source": [
    "from math import sqrt\n",
    "\n",
    "def factorize(n):\n",
    "    factor = []\n",
    "    \n",
    "    while n > 1:\n",
    "        for i in range(2, n + 1):\n",
    "            if n % i == 0:\n",
    "                n = int(n/i)\n",
    "                factor.append(i)\n",
    "                break\n",
    "    \n",
    "    return factor            \n",
    "\n",
    "def square_roots(a: int, p: int):\n",
    "    \n",
    "    if a % 4 == 3:\n",
    "        return [pow(a, int((p + 1) / 4), p)]\n",
    "    else:\n",
    "        square_root_list = []\n",
    "        \n",
    "        factors = factorize(p)\n",
    "        for factor in factors:\n",
    "            print(factor)\n",
    "            square_root_list.append(square_roots(factor, p))\n",
    "            \n",
    "        return square_root_list"
   ]
  },
  {
   "cell_type": "code",
   "execution_count": 18,
   "metadata": {},
   "outputs": [
    {
     "name": "stdout",
     "output_type": "stream",
     "text": [
      "19\n",
      "23\n"
     ]
    }
   ],
   "source": [
    "l = square_roots(340, 437)\n",
    "print(l)"
   ]
  }
 ],
 "metadata": {
  "kernelspec": {
   "display_name": "Python 3.9.0 64-bit",
   "language": "python",
   "name": "python3"
  },
  "language_info": {
   "codemirror_mode": {
    "name": "ipython",
    "version": 3
   },
   "file_extension": ".py",
   "mimetype": "text/x-python",
   "name": "python",
   "nbconvert_exporter": "python",
   "pygments_lexer": "ipython3",
   "version": "3.9.0"
  },
  "orig_nbformat": 4,
  "vscode": {
   "interpreter": {
    "hash": "ff1200cc413885a26299d5081e03f20b97b392fc1baa637c4818e9e43d99bbec"
   }
  }
 },
 "nbformat": 4,
 "nbformat_minor": 2
}
